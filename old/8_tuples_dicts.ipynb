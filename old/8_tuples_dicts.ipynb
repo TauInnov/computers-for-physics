{
 "cells": [
  {
   "cell_type": "code",
   "execution_count": 8,
   "id": "7e548e8d-cb63-4291-855a-e784ac8f74c5",
   "metadata": {
    "slideshow": {
     "slide_type": "skip"
    },
    "tags": [
     "remove-cell"
    ]
   },
   "outputs": [
    {
     "data": {
      "text/html": [
       "<!-- RTL Fix the jupyter notebook 7  -->\n",
       "<style>\n",
       "    .jp-RenderedHTMLCommon {\n",
       "        padding-top: 2em !important;\n",
       "  }   \n",
       "    .jp-RenderedHTMLCommon, .jp-RenderedHTMLCommon * {\n",
       "        direction: rtl !important;\n",
       "        text-align:right !important;\n",
       "  }\n",
       "    .jp-MarkdownCell .jp-InputArea-editor {\n",
       "        direction: rtl !important; \n",
       "        text-align:right !important;\n",
       "        padding-top: 2em !important;\n",
       "  } \n",
       "\n",
       " .jp-RenderedHTMLCommon code, .jp-RenderedHTMLCommon code span {\n",
       "        text-align:left !important;\n",
       "        direction: ltr !important;\n",
       "        unicode-bidi: embed !important;\n",
       "\n",
       "    }\n",
       "    .jp-RenderedHTMLCommon pre:has(code) {\n",
       "      direction: ltr !important;\n",
       "      text-align: left!important;\n",
       "    }\n",
       "\n",
       "</style> \n"
      ],
      "text/plain": [
       "<IPython.core.display.HTML object>"
      ]
     },
     "metadata": {},
     "output_type": "display_data"
    }
   ],
   "source": [
    "%%html\n",
    "<!-- RTL Fix the jupyter notebook 7  -->\n",
    "<style>\n",
    "    .jp-RenderedHTMLCommon {\n",
    "        padding-top: 2em !important;\n",
    "  }   \n",
    "    .jp-RenderedHTMLCommon, .jp-RenderedHTMLCommon * {\n",
    "        direction: rtl !important;\n",
    "        text-align:right !important;\n",
    "  }\n",
    "    .jp-MarkdownCell .jp-InputArea-editor {\n",
    "        direction: rtl !important; \n",
    "        text-align:right !important;\n",
    "        padding-top: 2em !important;\n",
    "  } \n",
    "\n",
    " .jp-RenderedHTMLCommon code, .jp-RenderedHTMLCommon code span {\n",
    "        text-align:left !important;\n",
    "        direction: ltr !important;\n",
    "        unicode-bidi: embed !important;\n",
    "\n",
    "    }\n",
    "    .jp-RenderedHTMLCommon pre:has(code) {\n",
    "      direction: ltr !important;\n",
    "      text-align: left!important;\n",
    "    }\n",
    "\n",
    "</style> "
   ]
  },
  {
   "cell_type": "code",
   "execution_count": 12,
   "id": "2f2d03fd-729e-439a-9ab0-de58c598e9ca",
   "metadata": {
    "tags": [
     "remove-cell"
    ]
   },
   "outputs": [
    {
     "data": {
      "text/html": [
       "<script>\n",
       "(function() {\n",
       "  // Create the toggle button\n",
       "  const rtlButton = document.createElement(\"button\");\n",
       "  rtlButton.textContent = \"Toggle LTR\";\n",
       "  rtlButton.id = \"top-rtl-toggle\";\n",
       "  rtlButton.style.marginLeft = \"8px\";\n",
       "  rtlButton.style.padding = \"4px 10px\";\n",
       "  rtlButton.style.fontSize = \"14px\";\n",
       "  rtlButton.style.cursor = \"pointer\";\n",
       "\n",
       "  // State\n",
       "  var rtlActive = false;\n",
       "\n",
       "  // Styling function\n",
       "  var applyStyleToEditor = (editor) => {\n",
       "    if (!editor) return;\n",
       "    var direction = getComputedStyle(editor).getPropertyValue('direction')=='rtl' ? 'ltr' : 'rtl';\n",
       "    var text_align = getComputedStyle(editor).getPropertyValue('text-align')=='right' ? 'left' : 'right';\n",
       "    editor.style.setProperty('direction', direction, 'important');\n",
       "    editor.style.setProperty('text-align', text_align, 'important');\n",
       "  };\n",
       "\n",
       "  // Toggle logic\n",
       "  rtlButton.onclick = () => {\n",
       "    rtlActive = !rtlActive;\n",
       "    rtlButton.textContent = rtlActive ? \"Toggle LTR\" : \"Toggle RTL\";\n",
       "    document.querySelectorAll('.jp-MarkdownCell .jp-InputArea-editor').forEach(applyStyleToEditor);\n",
       "    document.querySelectorAll('.jp-RenderedHTMLCommon code, .jp-RenderedHTMLCommon code span').forEach(applyStyleToEditor);\n",
       "    document.querySelectorAll('jp-RenderedHTMLCommon, .jp-RenderedHTMLCommon *').forEach(applyStyleToEditor);\n",
       "  };\n",
       "\n",
       "  // Watch for focus into editing Markdown cells\n",
       "  // document.addEventListener('focusin', (event) => {\n",
       "  //   const editor = event.target.closest('.jp-MarkdownCell .jp-InputArea-editor');\n",
       "  //    if (editor) applyStyleToEditor(editor);\n",
       "  // });\n",
       "\n",
       "  // Insert into top toolbar if not already present\n",
       "  var insertIntoToolbar = () => {\n",
       "    const toolbar = document.querySelector('.jp-NotebookPanel-toolbar');\n",
       "    if (toolbar && !document.getElementById(\"top-rtl-toggle\")) {\n",
       "      toolbar.appendChild(rtlButton);\n",
       "    } else {\n",
       "      // Try again in a moment if toolbar isn't ready yet\n",
       "      setTimeout(insertIntoToolbar, 300);\n",
       "    }\n",
       "  };\n",
       "\n",
       "  insertIntoToolbar();\n",
       "})();\n",
       "</script>\n"
      ],
      "text/plain": [
       "<IPython.core.display.HTML object>"
      ]
     },
     "metadata": {},
     "output_type": "display_data"
    }
   ],
   "source": [
    "%%html\n",
    "<script>\n",
    "(function() {\n",
    "  // Create the toggle button\n",
    "  const rtlButton = document.createElement(\"button\");\n",
    "  rtlButton.textContent = \"Toggle LTR\";\n",
    "  rtlButton.id = \"top-rtl-toggle\";\n",
    "  rtlButton.style.marginLeft = \"8px\";\n",
    "  rtlButton.style.padding = \"4px 10px\";\n",
    "  rtlButton.style.fontSize = \"14px\";\n",
    "  rtlButton.style.cursor = \"pointer\";\n",
    "\n",
    "  // State\n",
    "  var rtlActive = false;\n",
    "\n",
    "  // Styling function\n",
    "  var applyStyleToEditor = (editor) => {\n",
    "    if (!editor) return;\n",
    "    var direction = getComputedStyle(editor).getPropertyValue('direction')=='rtl' ? 'ltr' : 'rtl';\n",
    "    var text_align = getComputedStyle(editor).getPropertyValue('text-align')=='right' ? 'left' : 'right';\n",
    "    editor.style.setProperty('direction', direction, 'important');\n",
    "    editor.style.setProperty('text-align', text_align, 'important');\n",
    "  };\n",
    "\n",
    "  // Toggle logic\n",
    "  rtlButton.onclick = () => {\n",
    "    rtlActive = !rtlActive;\n",
    "    rtlButton.textContent = rtlActive ? \"Toggle LTR\" : \"Toggle RTL\";\n",
    "    document.querySelectorAll('.jp-MarkdownCell .jp-InputArea-editor').forEach(applyStyleToEditor);\n",
    "    document.querySelectorAll('.jp-RenderedHTMLCommon code, .jp-RenderedHTMLCommon code span').forEach(applyStyleToEditor);\n",
    "    document.querySelectorAll('jp-RenderedHTMLCommon, .jp-RenderedHTMLCommon *').forEach(applyStyleToEditor);\n",
    "  };\n",
    "\n",
    "  // Watch for focus into editing Markdown cells\n",
    "  // document.addEventListener('focusin', (event) => {\n",
    "  //   const editor = event.target.closest('.jp-MarkdownCell .jp-InputArea-editor');\n",
    "  //    if (editor) applyStyleToEditor(editor);\n",
    "  // });\n",
    "\n",
    "  // Insert into top toolbar if not already present\n",
    "  var insertIntoToolbar = () => {\n",
    "    const toolbar = document.querySelector('.jp-NotebookPanel-toolbar');\n",
    "    if (toolbar && !document.getElementById(\"top-rtl-toggle\")) {\n",
    "      toolbar.appendChild(rtlButton);\n",
    "    } else {\n",
    "      // Try again in a moment if toolbar isn't ready yet\n",
    "      setTimeout(insertIntoToolbar, 300);\n",
    "    }\n",
    "  };\n",
    "\n",
    "  insertIntoToolbar();\n",
    "})();\n",
    "</script>"
   ]
  },
  {
   "cell_type": "markdown",
   "id": "3868e164-bb8a-4ee7-b996-78c4bfd2a94b",
   "metadata": {
    "slideshow": {
     "slide_type": "fragment"
    }
   },
   "source": [
    "# רשומות ומילונים"
   ]
  },
  {
   "cell_type": "code",
   "execution_count": null,
   "id": "83b72199-b9c1-497f-bf0e-13ae21384d49",
   "metadata": {},
   "outputs": [],
   "source": []
  },
  {
   "cell_type": "markdown",
   "id": "bd575e88",
   "metadata": {
    "slideshow": {
     "slide_type": "subslide"
    }
   },
   "source": [
    "## רשומה `tuple`: \"רשימה\" בלתי ניתנת לשינוי"
   ]
  },
  {
   "cell_type": "markdown",
   "id": "1843ba3f",
   "metadata": {
    "slideshow": {
     "slide_type": "fragment"
    }
   },
   "source": [
    "- `tuple` היא מבנה נתונים הדומה ל־`list`, אך הוא בלתי־ניתן לשינוי (immutable)."
   ]
  },
  {
   "cell_type": "code",
   "execution_count": null,
   "id": "5965ecda",
   "metadata": {
    "execution": {
     "iopub.execute_input": "2025-03-10T07:47:04.095254Z",
     "iopub.status.busy": "2025-03-10T07:47:04.094819Z",
     "iopub.status.idle": "2025-03-10T07:47:04.098246Z",
     "shell.execute_reply": "2025-03-10T07:47:04.097570Z"
    },
    "slideshow": {
     "slide_type": "fragment"
    }
   },
   "outputs": [],
   "source": [
    "t = (\"don't\", \"worry\", \"be\", \"happy\") # definition"
   ]
  },
  {
   "cell_type": "code",
   "execution_count": null,
   "id": "b606f381",
   "metadata": {
    "execution": {
     "iopub.execute_input": "2025-03-10T07:47:04.101131Z",
     "iopub.status.busy": "2025-03-10T07:47:04.100834Z",
     "iopub.status.idle": "2025-03-10T07:47:04.105291Z",
     "shell.execute_reply": "2025-03-10T07:47:04.104586Z"
    },
    "slideshow": {
     "slide_type": "fragment"
    }
   },
   "outputs": [],
   "source": [
    " t[0] # indexing"
   ]
  },
  {
   "cell_type": "code",
   "execution_count": null,
   "id": "46215ba0",
   "metadata": {
    "execution": {
     "iopub.execute_input": "2025-03-10T07:47:04.108294Z",
     "iopub.status.busy": "2025-03-10T07:47:04.107852Z",
     "iopub.status.idle": "2025-03-10T07:47:04.112222Z",
     "shell.execute_reply": "2025-03-10T07:47:04.111512Z"
    },
    "slideshow": {
     "slide_type": "fragment"
    }
   },
   "outputs": [],
   "source": [
    "t[-1] # backwords indexing"
   ]
  },
  {
   "cell_type": "code",
   "execution_count": null,
   "id": "7cb6660d",
   "metadata": {
    "execution": {
     "iopub.execute_input": "2025-03-10T07:47:04.114975Z",
     "iopub.status.busy": "2025-03-10T07:47:04.114681Z",
     "iopub.status.idle": "2025-03-10T07:47:04.119191Z",
     "shell.execute_reply": "2025-03-10T07:47:04.118489Z"
    },
    "slideshow": {
     "slide_type": "fragment"
    }
   },
   "outputs": [],
   "source": [
    "t[1:3] \t# slicing"
   ]
  },
  {
   "cell_type": "code",
   "execution_count": null,
   "id": "397b37c7",
   "metadata": {
    "execution": {
     "iopub.execute_input": "2025-03-10T07:47:04.122217Z",
     "iopub.status.busy": "2025-03-10T07:47:04.121788Z",
     "iopub.status.idle": "2025-03-10T07:47:04.126550Z",
     "shell.execute_reply": "2025-03-10T07:47:04.125850Z"
    },
    "slideshow": {
     "slide_type": "fragment"
    }
   },
   "outputs": [],
   "source": [
    "my_list = [1, 2, 3]\n",
    "my_tuple = (1, 2, 3)\n",
    "my_tuple[0:2] "
   ]
  },
  {
   "cell_type": "code",
   "execution_count": null,
   "id": "518b65bd",
   "metadata": {
    "execution": {
     "iopub.execute_input": "2025-03-10T07:47:04.129399Z",
     "iopub.status.busy": "2025-03-10T07:47:04.129108Z",
     "iopub.status.idle": "2025-03-10T07:47:04.145859Z",
     "shell.execute_reply": "2025-03-10T07:47:04.145134Z"
    },
    "slideshow": {
     "slide_type": "fragment"
    },
    "tags": [
     "raises-exception"
    ]
   },
   "outputs": [],
   "source": [
    "my_tuple[1] = 10"
   ]
  },
  {
   "cell_type": "markdown",
   "id": "61b1499c",
   "metadata": {
    "slideshow": {
     "slide_type": "fragment"
    }
   },
   "source": [
    "<span style='color:red'> אין אפשרות לקרוא לשום מתודה שראינו בlist שמשנה את הערך המקורי כמו append, remove וכו' </span>"
   ]
  },
  {
   "cell_type": "markdown",
   "id": "6ce08e00",
   "metadata": {
    "slideshow": {
     "slide_type": "subslide"
    }
   },
   "source": [
    "# מילונים: `dict`: \"רשימה\" עם מפתחות במקום אינדקסים"
   ]
  },
  {
   "cell_type": "markdown",
   "id": "5bf2da89",
   "metadata": {
    "slideshow": {
     "slide_type": "fragment"
    }
   },
   "source": [
    "- מבנה נתונים אסוציאטיבי  \n",
    "    - התאמה בין מפתח לערך (Key – Value)  \n",
    "    - גישה לערכים לפי מפתח (ולא לפי מיקום כמו ברשימות)  \n",
    "    - אין הבטחה לסדר של האיברים  \n",
    "    - מהיר מאוד!  \n",
    "  \n",
    "- אינטואיציה - דפי זהב:  \n",
    "    - אם יש לך שם, קל למצוא את מספר הטלפון המתאים  \n",
    "    - אם יש לך מספר טלפון, קשה להתאים לו שם  \n",
    "\n",
    "   \n",
    "- המפתחות צריכים להיות:  \n",
    "    - ייחודיים  \n",
    "    - בלתי ניתנים לשינוי (immutable)\n",
    " \n",
    "תחביר:  \n",
    "```python\n",
    "{key1:val1, key2:val2,…}\n",
    "```\n"
   ]
  },
  {
   "cell_type": "markdown",
   "id": "655b2afe",
   "metadata": {
    "slideshow": {
     "slide_type": "fragment"
    }
   },
   "source": [
    "<img width=600 heigth=200 src=\"data:image/png;base64,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\" />"
   ]
  },
  {
   "cell_type": "markdown",
   "id": "c018d92c",
   "metadata": {
    "slideshow": {
     "slide_type": "subslide"
    }
   },
   "source": [
    "### דוגמא"
   ]
  },
  {
   "cell_type": "code",
   "execution_count": null,
   "id": "a47e7e15",
   "metadata": {
    "execution": {
     "iopub.execute_input": "2025-03-10T07:47:04.149485Z",
     "iopub.status.busy": "2025-03-10T07:47:04.149048Z",
     "iopub.status.idle": "2025-03-10T07:47:04.152973Z",
     "shell.execute_reply": "2025-03-10T07:47:04.152261Z"
    },
    "slideshow": {
     "slide_type": "fragment"
    }
   },
   "outputs": [],
   "source": [
    "phonebook = {'Eric Cartman': '2021', 'Stan March': '5711', 'Kyle Broflovski': '2781'}\n",
    "print(phonebook)"
   ]
  },
  {
   "cell_type": "markdown",
   "id": "62ba7fc7",
   "metadata": {
    "slideshow": {
     "slide_type": "fragment"
    }
   },
   "source": [
    "- הערה: באופן כללי, זוגות המפתח-ערך במילון לא בהכרח יוצגו באותו סדר שבו הוגדרו.  \n",
    "  מילונים לא מבטיחים סדר מסוים של מפתחות.  \n",
    "- החל מ-Python 3.7, הסדר של המילון מובטח להיות לפי סדר ההכנסה,  \n",
    "  אך לא מומלץ להסתמך על כך משום שזה תלוי בגרסה/שפה.\n"
   ]
  },
  {
   "cell_type": "markdown",
   "id": "f73e095a",
   "metadata": {
    "slideshow": {
     "slide_type": "subslide"
    }
   },
   "source": [
    "- גישה לפי מפתח:"
   ]
  },
  {
   "cell_type": "code",
   "execution_count": null,
   "id": "bab80b74",
   "metadata": {
    "execution": {
     "iopub.execute_input": "2025-03-10T07:47:04.155992Z",
     "iopub.status.busy": "2025-03-10T07:47:04.155697Z",
     "iopub.status.idle": "2025-03-10T07:47:04.160245Z",
     "shell.execute_reply": "2025-03-10T07:47:04.159518Z"
    },
    "slideshow": {
     "slide_type": "fragment"
    }
   },
   "outputs": [],
   "source": [
    "phonebook['Eric Cartman']"
   ]
  },
  {
   "cell_type": "markdown",
   "id": "aceaa065",
   "metadata": {
    "slideshow": {
     "slide_type": "fragment"
    }
   },
   "source": [
    "- בדיקה אם מפתח קיים:"
   ]
  },
  {
   "cell_type": "code",
   "execution_count": null,
   "id": "1979c26b",
   "metadata": {
    "execution": {
     "iopub.execute_input": "2025-03-10T07:47:04.163314Z",
     "iopub.status.busy": "2025-03-10T07:47:04.162885Z",
     "iopub.status.idle": "2025-03-10T07:47:04.167223Z",
     "shell.execute_reply": "2025-03-10T07:47:04.166512Z"
    },
    "slideshow": {
     "slide_type": "fragment"
    }
   },
   "outputs": [],
   "source": [
    "'Kenny McCormick' in phonebook"
   ]
  },
  {
   "cell_type": "markdown",
   "id": "ad9168a2",
   "metadata": {
    "slideshow": {
     "slide_type": "subslide"
    }
   },
   "source": [
    "- הוספה:"
   ]
  },
  {
   "cell_type": "code",
   "execution_count": null,
   "id": "4746ebdf",
   "metadata": {
    "execution": {
     "iopub.execute_input": "2025-03-10T07:47:04.170223Z",
     "iopub.status.busy": "2025-03-10T07:47:04.169854Z",
     "iopub.status.idle": "2025-03-10T07:47:04.173716Z",
     "shell.execute_reply": "2025-03-10T07:47:04.172998Z"
    },
    "slideshow": {
     "slide_type": "fragment"
    }
   },
   "outputs": [],
   "source": [
    "phonebook['Kenny McCormick'] = '1234'\n",
    "print(phonebook)"
   ]
  },
  {
   "cell_type": "markdown",
   "id": "875c6513",
   "metadata": {
    "slideshow": {
     "slide_type": "fragment"
    }
   },
   "source": [
    "מה קורה כאשר מוסיפים מפתח שכבר קיים?"
   ]
  },
  {
   "cell_type": "code",
   "execution_count": null,
   "id": "3b04fcff",
   "metadata": {
    "execution": {
     "iopub.execute_input": "2025-03-10T07:47:04.176595Z",
     "iopub.status.busy": "2025-03-10T07:47:04.176304Z",
     "iopub.status.idle": "2025-03-10T07:47:04.180150Z",
     "shell.execute_reply": "2025-03-10T07:47:04.179433Z"
    },
    "slideshow": {
     "slide_type": "fragment"
    }
   },
   "outputs": [],
   "source": [
    "print(phonebook)\n",
    "phonebook['Kenny McCormick'] = '2222'\n",
    "print(phonebook)"
   ]
  },
  {
   "cell_type": "markdown",
   "id": "781f5493",
   "metadata": {
    "slideshow": {
     "slide_type": "fragment"
    }
   },
   "source": [
    "איך נוכל להוסיף עוד כניסה עבור Kenny McCormick בפנקס הטלפונים?"
   ]
  },
  {
   "cell_type": "markdown",
   "id": "d2379ce9",
   "metadata": {
    "slideshow": {
     "slide_type": "subslide"
    }
   },
   "source": [
    "רעיון: להוסיף כתובת למפתח"
   ]
  },
  {
   "cell_type": "code",
   "execution_count": null,
   "id": "933ec67d",
   "metadata": {
    "execution": {
     "iopub.execute_input": "2025-03-10T07:47:04.183117Z",
     "iopub.status.busy": "2025-03-10T07:47:04.182826Z",
     "iopub.status.idle": "2025-03-10T07:47:04.199754Z",
     "shell.execute_reply": "2025-03-10T07:47:04.199034Z"
    },
    "slideshow": {
     "slide_type": "fragment"
    },
    "tags": [
     "raises-exception"
    ]
   },
   "outputs": [],
   "source": [
    "phonebook= {['Kenny McCormick', 'Southpark']: '2222'}"
   ]
  },
  {
   "cell_type": "markdown",
   "id": "b63aa4fc",
   "metadata": {
    "slideshow": {
     "slide_type": "fragment"
    }
   },
   "source": [
    "מה הבעיה?"
   ]
  },
  {
   "cell_type": "markdown",
   "id": "8d0b7a4c",
   "metadata": {
    "slideshow": {
     "slide_type": "fragment"
    }
   },
   "source": [
    "- <span style='color:red'> מפתחות חייבים להיות בלתי ניתנים לשינוי (immutable)! </span>  \n",
    "- מה אפשר לעשות?"
   ]
  },
  {
   "cell_type": "markdown",
   "id": "e8dcb178",
   "metadata": {
    "slideshow": {
     "slide_type": "subslide"
    }
   },
   "source": [
    "תיקון: השתמשו ב־tuples בתור מפתחות!"
   ]
  },
  {
   "cell_type": "code",
   "execution_count": null,
   "id": "d66527fc",
   "metadata": {
    "execution": {
     "iopub.execute_input": "2025-03-10T07:47:04.203056Z",
     "iopub.status.busy": "2025-03-10T07:47:04.202626Z",
     "iopub.status.idle": "2025-03-10T07:47:04.206486Z",
     "shell.execute_reply": "2025-03-10T07:47:04.205771Z"
    },
    "slideshow": {
     "slide_type": "fragment"
    }
   },
   "outputs": [],
   "source": [
    "phonebook= {('Kenny McCormick', 'Southpark'): '2222'}\n",
    "print(phonebook) "
   ]
  },
  {
   "cell_type": "markdown",
   "id": "d6473f5b",
   "metadata": {
    "slideshow": {
     "slide_type": "subslide"
    }
   },
   "source": [
    "### Dictionary methods"
   ]
  },
  {
   "cell_type": "markdown",
   "id": "635d37a1",
   "metadata": {
    "slideshow": {
     "slide_type": "fragment"
    }
   },
   "source": [
    "| פונקציה            | תיאור                                                                 |\n",
    "|---------------------|------------------------------------------------------------------------|\n",
    "| `D = {}`            | יוצר מילון ריק                                                         |\n",
    "| `D[k] = value`      | קובע את הערך של `D[k]`                                                 |\n",
    "| `k in D`            | מחזיר `True` אם `k` הוא מפתח במילון, אחרת `False`                    |\n",
    "| `D[k]`              | מחזיר את הערך של המפתח `k` (יזרוק KeyError אם `k` לא קיים)           |\n",
    "| `D.get(k, [d])`     | מחזיר את `D[k]` אם קיים, אחרת את `d` (ברירת מחדל: `None`)             |\n",
    "| `D.keys()`          | מחזיר תצוגה של כל המפתחות במילון                                     |\n",
    "| `D.values()`        | מחזיר תצוגה של כל הערכים במילון                                      |\n",
    "| `D.items()`         | מחזיר תצוגה של זוגות `(מפתח, ערך)` כ־tuples                          |\n",
    "| `D.pop(k, [d])`     | מסיר את המפתח `k` ומחזיר את ערכו; אם לא נמצא מחזיר `d` או שגיאה       |\n",
    "| `D.copy()`          | יוצר העתק רדוד של המילון (המילון בלבד מועתק, לא האובייקטים שבתוכו)   |\n",
    "| `D.update(other)`   | מוסיף את כל הפריטים מהמילון `other` לתוך `D`                         |\n"
   ]
  },
  {
   "cell_type": "markdown",
   "id": "cfee0b3a",
   "metadata": {
    "slideshow": {
     "slide_type": "fragment"
    }
   },
   "source": [
    "- ארגומנט שמסומן כ־<span style=\"color:red\"><i>[d]</i></span> הוא אופציונלי  \n",
    "    - אם לא מציינים אותו, ייעשה שימוש בערך ברירת המחדל  \n",
    "- מידע נוסף על מתודות של מילון נמצא [כאן](https://docs.python.org/3/library/stdtypes.html#dict)\n"
   ]
  },
  {
   "cell_type": "markdown",
   "id": "b8ab2a19",
   "metadata": {
    "slideshow": {
     "slide_type": "subslide"
    }
   },
   "source": [
    "### תצוגות מילון (Dictionary Views)\n",
    "\n",
    "- המתודות של מילון `keys()`, `values()`, `items()` מחזירות תצוגה איטרבילית דינמית.  \n",
    "- החל מ-Python 3.7, סדר התצוגה של המילון נשמר לפי סדר ההכנסה, אבל לא כדאי להסתמך על כך.  \n",
    "- ניתן לאחזר תצוגה בלולאה, לבדוק שייכות עם `in`, והיא משתנה דינמית כאשר המילון משתנה.  \n",
    "- התצוגה משתנה כאשר המילון משתנה  \n",
    "    - <span style='color:red'>לא לשנות את המילון תוך כדי איטרציה על אחת מהתצוגות שלו</span>\n"
   ]
  },
  {
   "cell_type": "code",
   "execution_count": null,
   "id": "f7215608",
   "metadata": {
    "execution": {
     "iopub.execute_input": "2025-03-10T07:47:04.209582Z",
     "iopub.status.busy": "2025-03-10T07:47:04.209287Z",
     "iopub.status.idle": "2025-03-10T07:47:04.213857Z",
     "shell.execute_reply": "2025-03-10T07:47:04.213146Z"
    },
    "slideshow": {
     "slide_type": "subslide"
    }
   },
   "outputs": [],
   "source": [
    "d={'A':65, 'B':66, 'C':67}\n",
    "print(d)\n",
    "print(d.keys())\n",
    "print(d.values())\n",
    "print(d.items())\n",
    "a=list(d.items())\n"
   ]
  },
  {
   "cell_type": "code",
   "execution_count": null,
   "id": "e147e220",
   "metadata": {
    "execution": {
     "iopub.execute_input": "2025-03-10T07:47:04.216708Z",
     "iopub.status.busy": "2025-03-10T07:47:04.216410Z",
     "iopub.status.idle": "2025-03-10T07:47:04.220552Z",
     "shell.execute_reply": "2025-03-10T07:47:04.219815Z"
    },
    "slideshow": {
     "slide_type": "fragment"
    }
   },
   "outputs": [],
   "source": [
    "a=d.keys()\n",
    "print(a)\n",
    "d['D']=68\n",
    "d['E']=69\n",
    "print(a)\n",
    "print('E' in a)"
   ]
  },
  {
   "cell_type": "markdown",
   "id": "38a5775f",
   "metadata": {
    "slideshow": {
     "slide_type": "subslide"
    }
   },
   "source": [
    "## דוגמה: מונה תדירות תווים\n",
    "\n",
    "- מטרה: לספור את התדירות של כל אות במחרוזת\n"
   ]
  },
  {
   "cell_type": "code",
   "execution_count": null,
   "id": "a2f2bf46",
   "metadata": {
    "execution": {
     "iopub.execute_input": "2025-03-10T07:47:04.223584Z",
     "iopub.status.busy": "2025-03-10T07:47:04.223159Z",
     "iopub.status.idle": "2025-03-10T07:47:04.227385Z",
     "shell.execute_reply": "2025-03-10T07:47:04.226671Z"
    },
    "slideshow": {
     "slide_type": "fragment"
    }
   },
   "outputs": [],
   "source": [
    "def get_char_count(text):\n",
    "    char_count = {}\n",
    "    for char in text:\n",
    "        if not char in char_count:\n",
    "            char_count[char] = 1\n",
    "        else: \n",
    "            char_count[char] += 1\n",
    "    return char_count"
   ]
  },
  {
   "cell_type": "code",
   "execution_count": null,
   "id": "5447739b",
   "metadata": {
    "execution": {
     "iopub.execute_input": "2025-03-10T07:47:04.230291Z",
     "iopub.status.busy": "2025-03-10T07:47:04.229993Z",
     "iopub.status.idle": "2025-03-10T07:47:04.235014Z",
     "shell.execute_reply": "2025-03-10T07:47:04.234327Z"
    },
    "scrolled": true,
    "slideshow": {
     "slide_type": "fragment"
    }
   },
   "outputs": [],
   "source": [
    "text = 'jerry'\n",
    "get_char_count(text)"
   ]
  },
  {
   "cell_type": "code",
   "execution_count": null,
   "id": "19f0ef82",
   "metadata": {
    "execution": {
     "iopub.execute_input": "2025-03-10T07:47:04.237876Z",
     "iopub.status.busy": "2025-03-10T07:47:04.237503Z",
     "iopub.status.idle": "2025-03-10T07:47:04.243094Z",
     "shell.execute_reply": "2025-03-10T07:47:04.242386Z"
    },
    "scrolled": true,
    "slideshow": {
     "slide_type": "subslide"
    }
   },
   "outputs": [],
   "source": [
    "text = 'supercalifragilisticexpialidocious'\n",
    "get_char_count(text)"
   ]
  },
  {
   "cell_type": "markdown",
   "id": "85db1587",
   "metadata": {
    "slideshow": {
     "slide_type": "subslide"
    }
   },
   "source": [
    "### מונה תדירות תווים משופר\n",
    "\n",
    "- שימוש ב-`get()`:\n"
   ]
  },
  {
   "cell_type": "code",
   "execution_count": null,
   "id": "5c1d85f6",
   "metadata": {
    "execution": {
     "iopub.execute_input": "2025-03-10T07:47:04.245969Z",
     "iopub.status.busy": "2025-03-10T07:47:04.245675Z",
     "iopub.status.idle": "2025-03-10T07:47:04.251156Z",
     "shell.execute_reply": "2025-03-10T07:47:04.250448Z"
    },
    "slideshow": {
     "slide_type": "fragment"
    }
   },
   "outputs": [],
   "source": [
    "def get_char_count(text):\n",
    "    char_count={}\n",
    "    for char in text:\n",
    "        char_count[char] = char_count.get(char, 0) + 1\n",
    "    return char_count\n",
    "\n",
    "text = 'jerry'\n",
    "get_char_count(text)"
   ]
  },
  {
   "cell_type": "markdown",
   "id": "f1c85698",
   "metadata": {
    "slideshow": {
     "slide_type": "subslide"
    }
   },
   "source": [
    "### מונה תדירות תווים: הדפסת תוצאה ממוינת"
   ]
  },
  {
   "cell_type": "markdown",
   "id": "4f8e29e2",
   "metadata": {
    "slideshow": {
     "slide_type": "fragment"
    }
   },
   "source": [
    "באיזה סדר נדפיס את התווים?"
   ]
  },
  {
   "cell_type": "markdown",
   "id": "5370072f",
   "metadata": {
    "slideshow": {
     "slide_type": "fragment"
    }
   },
   "source": [
    "**אפשרות ראשונה - לפי סדר אלפביתי**: תחילה את מספר המופעים של a, לאחר מכן את מספר המופעים של b וכו'"
   ]
  },
  {
   "cell_type": "code",
   "execution_count": null,
   "id": "ebc200ec",
   "metadata": {
    "execution": {
     "iopub.execute_input": "2025-03-10T07:47:04.254312Z",
     "iopub.status.busy": "2025-03-10T07:47:04.254015Z",
     "iopub.status.idle": "2025-03-10T07:47:04.258725Z",
     "shell.execute_reply": "2025-03-10T07:47:04.258001Z"
    },
    "slideshow": {
     "slide_type": "fragment"
    }
   },
   "outputs": [],
   "source": [
    "def print_by_keys_order(d):\n",
    "    sorted_chars = sorted(d)\n",
    "    for char in sorted_chars:  \n",
    "        print(char, ':', d[char])\n",
    "\n",
    "text = 'supercalifragilisticexpialidocious'\n",
    "cc = get_char_count(text)\n",
    "print_by_keys_order(cc)"
   ]
  },
  {
   "cell_type": "markdown",
   "id": "fda16e02",
   "metadata": {
    "slideshow": {
     "slide_type": "subslide"
    }
   },
   "source": [
    "- **אפשרות שניה - לפי תדירות:** להתחיל מהאות שמופיעה הכי הרבה פעמים ולסיים בזו שמופיעה הכי מעט\n"
   ]
  },
  {
   "cell_type": "code",
   "execution_count": null,
   "id": "0b78afd0",
   "metadata": {
    "execution": {
     "iopub.execute_input": "2025-03-10T07:47:04.261790Z",
     "iopub.status.busy": "2025-03-10T07:47:04.261418Z",
     "iopub.status.idle": "2025-03-10T07:47:04.266227Z",
     "shell.execute_reply": "2025-03-10T07:47:04.265601Z"
    },
    "slideshow": {
     "slide_type": "fragment"
    }
   },
   "outputs": [],
   "source": [
    "def print_by_keys_order(d):\n",
    "    sorted_chars = sorted(d, key=d.get, reverse=True)\n",
    "    for char in sorted_chars: \n",
    "        print(char, ':', d[char])\n",
    "\n",
    "text = 'supercalifragilisticexpialidocious'\n",
    "cc = get_char_count(text)\n",
    "print_by_keys_order(cc)"
   ]
  }
 ],
 "metadata": {
  "celltoolbar": "Slideshow",
  "kernelspec": {
   "display_name": "Python 3 (ipykernel)",
   "language": "python",
   "name": "python3"
  },
  "language_info": {
   "codemirror_mode": {
    "name": "ipython",
    "version": 3
   },
   "file_extension": ".py",
   "mimetype": "text/x-python",
   "name": "python",
   "nbconvert_exporter": "python",
   "pygments_lexer": "ipython3",
   "version": "3.11.12"
  }
 },
 "nbformat": 4,
 "nbformat_minor": 5
}
