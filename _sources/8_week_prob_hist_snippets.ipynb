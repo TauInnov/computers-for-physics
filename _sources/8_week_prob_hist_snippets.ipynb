{
 "cells": [
  {
   "cell_type": "markdown",
   "id": "392b19a3",
   "metadata": {},
   "source": [
    "# הסתברויות נפוצות ב־NumPy והיסטוגרמות — מדריך קצר\n",
    "\n",
    "מטרת הפרק: להכיר דגימה מהתפלגויות הסתברות נפוצות באמצעות `numpy.random.Generator`,\n",
    "לבנות אינטואיציה עם היסטוגרמות, ולהדגים עקרונות יסוד כמו **חוק המספרים הגדולים** ו־**משפט הגבול המרכזי**.\n",
    "רמת ההסבר מותאמת לבוגר/ת תיכון (עם חיזוקים מתמטיים קלים כשצריך)."
   ]
  },
  {
   "cell_type": "markdown",
   "id": "0e48e6ec",
   "metadata": {},
   "source": [
    "## הגדרות בסיסיות והכנות\n",
    "\n",
    "נשתמש ב־NumPy ליצירת דגימות ובהצגה גרפית עם Matplotlib. נגדיר מחולל אקראיות\n",
    "(reproducibility) כדי שנקבל תוצאות שחוזרות על עצמן בהרצה חוזרת.\n"
   ]
  },
  {
   "cell_type": "code",
   "execution_count": null,
   "id": "09de18f7",
   "metadata": {},
   "outputs": [],
   "source": [
    "import numpy as np\n",
    "import math\n",
    "import matplotlib.pyplot as plt\n",
    "\n",
    "# מחולל אקראיות מודרני של NumPy\n",
    "rng = np.random.default_rng(42)\n",
    "\n",
    "# פונקציית עזר: שרטוט היסטוגרמה \"נקייה\"\n",
    "def plot_hist(data, bins=30, density=False, title=None, xlabel=None, ylabel=None):\n",
    "    plt.figure(figsize=(6, 4))\n",
    "    plt.hist(data, bins=bins, density=density)\n",
    "    if title: plt.title(title)\n",
    "    if xlabel: plt.xlabel(xlabel)\n",
    "    if ylabel: plt.ylabel(ylabel)\n",
    "    plt.show()"
   ]
  },
  {
   "cell_type": "markdown",
   "id": "8efbce34",
   "metadata": {},
   "source": [
    "## ברנולי ובינומי\n",
    "\n",
    "**ברנולי**: ניסוי עם שתי תוצאות \\- \"הצלחה\" (1) בהסתברות \\\\(p\\\\) או \"כישלון\" (0) בהסתברות \\\\(1-p\\\\).  \n",
    "**בינומי**: מספר ההצלחות מתוך \\\\(n\\\\) ניסויי ברנולי בלתי\\-תלויים עם אותה \\\\(p\\\\).\n",
    "\n",
    "דוגמאות: הטלת מטבע מוטה (\\\\(p\\\\) לקבל \"עץ\"), בדיקת הצלחה/כישלון בניסוי מעבדה, ועוד.\n",
    "נטעם מספרים ונראה את התוצאות אמפירית.\n"
   ]
  },
  {
   "cell_type": "code",
   "execution_count": null,
   "id": "df5a7ff1",
   "metadata": {},
   "outputs": [],
   "source": [
    "# ברנולי עם p=0.3\n",
    "p = 0.3\n",
    "N = 10000\n",
    "ber = rng.binomial(n=1, p=p, size=N)  # או rng.random(N) < p\n",
    "\n",
    "print(\"שיעור הצלחות אמפירי:\", ber.mean())\n",
    "plot_hist(ber, bins=[-0.5, 0.5, 1.5], density=True, \n",
    "          title=\"ברנולי p=0.3 — היסטוגרמה (PMF אמפירית)\",\n",
    "          xlabel=\"תוצאה (0/1)\", ylabel=\"שכיחות יחסית\")\n"
   ]
  },
  {
   "cell_type": "code",
   "execution_count": null,
   "id": "41c8d9fa",
   "metadata": {},
   "outputs": [],
   "source": [
    "# בינומי: n ניסויים עצמאיים, p אותה הסתברות בכל ניסוי\n",
    "n = 10\n",
    "p = 0.3\n",
    "N = 20000\n",
    "binom = rng.binomial(n=n, p=p, size=N)\n",
    "\n",
    "print(\"תוחלת תיאורטית (n*p):\", n*p, \"  |  אמפירית:\", binom.mean())\n",
    "# היסטוגרמה עם סלילים המתאימים לערכים שלמים (0..n)\n",
    "bins = np.arange(-0.5, n + 1.5, 1)\n",
    "plot_hist(binom, bins=bins, density=True, \n",
    "          title=f\"בינומי(n={n}, p={p}) — היסטוגרמה (PMF אמפירית)\",\n",
    "          xlabel=\"מספר הצלחות ב- n ניסויים\", ylabel=\"שכיחות יחסית\")\n"
   ]
  },
  {
   "cell_type": "markdown",
   "id": "5f659992",
   "metadata": {},
   "source": [
    "## גאומטרית (Geometric)\n",
    "\n",
    "ההתפלגות הגאומטרית מתארת את **מספר הניסיונות עד להצלחה הראשונה** כשבכל ניסיון\n",
    "ההצלחה בהסתברות \\\\(p\\\\). התוחלת היא \\\\(E[X]=1/p\\\\)."
   ]
  },
  {
   "cell_type": "code",
   "execution_count": null,
   "id": "bd4e4bf7",
   "metadata": {},
   "outputs": [],
   "source": [
    "p = 0.25\n",
    "N = 20000\n",
    "geom = rng.geometric(p, size=N)  # מספר ניסיונות עד להצלחה הראשונה (כולל)\n",
    "\n",
    "print(\"תוחלת תיאורטית 1/p =\", 1/p, \"  |  אמפירית:\", geom.mean())\n",
    "# נשרטט היסטוגרמה עד ערך עליון סביר (לצורך הצגה נוחה)\n",
    "upper = 15\n",
    "bins = np.arange(0.5, upper + 1.5, 1)\n",
    "plot_hist(geom[geom <= upper], bins=bins, density=True,\n",
    "          title=f\"גאומטרית(p={p}) — PMF אמפירית (חתוכה עד {upper})\",\n",
    "          xlabel=\"מספר ניסיונות עד הצלחה\", ylabel=\"שכיחות יחסית\")\n"
   ]
  },
  {
   "cell_type": "markdown",
   "id": "c602994f",
   "metadata": {},
   "source": [
    "## פואסון (Poisson)\n",
    "\n",
    "התפלגות **פואסון** מתארת מספר מאורעות בפרק זמן/מרחב נתון כאשר המאורעות קורים בקצב ממוצע \\\\(\\lambda\\\\) ובעצמאות.\n",
    "הקשר לבינומי: כאשר \\\\(n\\\\) גדול ו־\\\\(p\\\\) קטן כך ש־\\\\(np = \\lambda\\\\) קבוע, הבינומי מתכנס לפואסון.\n",
    "\n",
    "ה־PMF (פונקציית מסה) של פואסון: \\\\(P(X=k)=e^{-\\lambda}\\lambda^k/k!\\\\)."
   ]
  },
  {
   "cell_type": "code",
   "execution_count": null,
   "id": "04529c8f",
   "metadata": {},
   "outputs": [],
   "source": [
    "lam = 3.5\n",
    "N = 30000\n",
    "poi = rng.poisson(lam=lam, size=N)\n",
    "\n",
    "print(\"תוחלת תיאורטית λ =\", lam, \"  |  אמפירית:\", poi.mean())\n",
    "\n",
    "# היסטוגרמה דיסקרטית + השוואה ל-PMF תיאורטית\n",
    "k_max = 15\n",
    "bins = np.arange(-0.5, k_max + 1.5, 1)\n",
    "plt.figure(figsize=(6,4))\n",
    "plt.hist(poi, bins=bins, density=True)\n",
    "ks = np.arange(0, k_max + 1)\n",
    "pmf = np.exp(-lam) * lam**ks / np.array([math.factorial(k) for k in ks])\n",
    "plt.plot(ks, pmf)  # קו רציף על נקודות ה-PMF (ברירת מחדל של סגנון)\n",
    "plt.title(f\"פואסון(λ={lam}) — PMF אמפירית ותיאורטית\")\n",
    "plt.xlabel(\"k (מספר מאורעות)\")\n",
    "plt.ylabel(\"שכיחות יחסית / הסתברות\")\n",
    "plt.show()\n"
   ]
  },
  {
   "cell_type": "markdown",
   "id": "ef993979",
   "metadata": {},
   "source": [
    "## רציפות: אחידה, נורמלית ואקספוננציאלית\n",
    "\n",
    "### אחידה רציפה \\\\(\\mathcal{U}(a,b)\\\\)\n",
    "כל ערך ב\\-\\\\([a,b]\\\\) שווה\\-הסתברות. ה\\-PDF הוא קבוע: \\\\(f(x)=1/(b-a)\\\\) בתחום, ואפס מחוץ לו.\n"
   ]
  },
  {
   "cell_type": "code",
   "execution_count": null,
   "id": "7d09736d",
   "metadata": {},
   "outputs": [],
   "source": [
    "a, b = -2, 3\n",
    "N = 20000\n",
    "u = rng.uniform(a, b, size=N)\n",
    "\n",
    "# PDF תיאורטי\n",
    "xs = np.linspace(a, b, 200)\n",
    "pdf = np.ones_like(xs) / (b - a)\n",
    "\n",
    "plt.figure(figsize=(6,4))\n",
    "plt.hist(u, bins=30, density=True)\n",
    "plt.plot(xs, pdf)\n",
    "plt.title(f\"אחידה רציפה U({a},{b}) — היסטוגרמה ו-PDF תיאורטי\")\n",
    "plt.xlabel(\"x\")\n",
    "plt.ylabel(\"צפיפות\")\n",
    "plt.show()\n"
   ]
  },
  {
   "cell_type": "markdown",
   "id": "51537770",
   "metadata": {},
   "source": [
    "### נורמלית \\\\(\\mathcal{N}(\\mu,\\sigma^2)\\\\)\n",
    "התפלגות \"פעמון\" קלאסית. PDF:  \n",
    "\\\\[\n",
    "f(x)=\\frac{1}{\\sigma\\sqrt{2\\pi}}\\exp\\!\\left(-\\frac{(x-\\mu)^2}{2\\sigma^2}\\right).\n",
    "\\\\]"
   ]
  },
  {
   "cell_type": "code",
   "execution_count": null,
   "id": "b99b3c04",
   "metadata": {},
   "outputs": [],
   "source": [
    "mu, sigma = 0.0, 1.0\n",
    "N = 40000\n",
    "normal = rng.normal(mu, sigma, size=N)\n",
    "\n",
    "xs = np.linspace(mu - 4*sigma, mu + 4*sigma, 400)\n",
    "pdf = (1.0/(sigma*np.sqrt(2*np.pi))) * np.exp(-0.5*((xs-mu)/sigma)**2)\n",
    "\n",
    "plt.figure(figsize=(6,4))\n",
    "plt.hist(normal, bins=40, density=True)\n",
    "plt.plot(xs, pdf)\n",
    "plt.title(f\"נורמלית N({mu},{sigma**2}) — היסטוגרמה ו-PDF תיאורטי\")\n",
    "plt.xlabel(\"x\")\n",
    "plt.ylabel(\"צפיפות\")\n",
    "plt.show()\n"
   ]
  },
  {
   "cell_type": "markdown",
   "id": "743c8d64",
   "metadata": {},
   "source": [
    "### אקספוננציאלית (Exponential)\n",
    "מתארת זמן בין מאורעות בקצב \\\\(\\lambda\\\\) קבוע. PDF: \\\\(f(x)=\\lambda e^{-\\lambda x}\\\\) עבור \\\\(x\\ge 0\\\\)."
   ]
  },
  {
   "cell_type": "code",
   "execution_count": null,
   "id": "b1c6be3c",
   "metadata": {},
   "outputs": [],
   "source": [
    "lam = 0.5  # קצב ממוצע לאירוע\n",
    "N = 30000\n",
    "exp_samp = rng.exponential(1/lam, size=N)  # NumPy מקבל scale=1/λ\n",
    "\n",
    "xs = np.linspace(0, np.quantile(exp_samp, 0.99), 400)\n",
    "pdf = lam * np.exp(-lam*xs)\n",
    "\n",
    "plt.figure(figsize=(6,4))\n",
    "plt.hist(exp_samp, bins=40, density=True)\n",
    "plt.plot(xs, pdf)\n",
    "plt.title(f\"אקספוננציאלית (λ={lam}) — היסטוגרמה ו-PDF תיאורטי\")\n",
    "plt.xlabel(\"x\")\n",
    "plt.ylabel(\"צפיפות\")\n",
    "plt.show()\n"
   ]
  },
  {
   "cell_type": "markdown",
   "id": "742fa3e8",
   "metadata": {},
   "source": [
    "## חוק המספרים הגדולים (LLN)\n",
    "\n",
    "כאשר מחשבים ממוצע של יותר ויותר דגימות בלתי\\-תלויות מאותה התפלגות עם תוחלת סופית,\n",
    "הממוצע האמפירי מתקרב לתוחלת האמיתית. נמחיש עם ברנולי \\\\(p=0.3\\\\)."
   ]
  },
  {
   "cell_type": "code",
   "execution_count": null,
   "id": "0523b60e",
   "metadata": {},
   "outputs": [],
   "source": [
    "p = 0.3\n",
    "N = 20000\n",
    "ber = rng.binomial(1, p, size=N)\n",
    "running_mean = np.cumsum(ber) / np.arange(1, N+1)\n",
    "\n",
    "plt.figure(figsize=(6,4))\n",
    "plt.plot(running_mean)\n",
    "plt.axhline(p)  # תוחלת אמיתית\n",
    "plt.title(\"חוק המספרים הגדולים — ממוצע נע מתקרב לתוחלת (p=0.3)\")\n",
    "plt.xlabel(\"מספר דגימות\")\n",
    "plt.ylabel(\"ממוצע אמפירי\")\n",
    "plt.show()\n"
   ]
  },
  {
   "cell_type": "markdown",
   "id": "edad4775",
   "metadata": {},
   "source": [
    "## משפט הגבול המרכזי (CLT) — הדגמה פשוטה\n",
    "\n",
    "כאשר מחשבים ממוצעים של **קבוצות** דגימות בלתי\\-תלויות מאותה התפלגות (עם שונות סופית),\n",
    "התפלגות הממוצע נוטה להיות נורמלית ככל שגודל הקבוצה \\\\(k\\\\) גדל. נמחיש עם אקספוננציאלית (שאינה נורמלית)."
   ]
  },
  {
   "cell_type": "code",
   "execution_count": null,
   "id": "1e3d46e4",
   "metadata": {},
   "outputs": [],
   "source": [
    "lam = 1.0\n",
    "k = 10           # גודל קבוצה לממוצע\n",
    "M = 20000        # כמה ממוצעים לחשב\n",
    "samp = rng.exponential(1/lam, size=(M, k))  # נשאב M קבוצות בגודל k\n",
    "means = samp.mean(axis=1)\n",
    "\n",
    "# תיאור נורמלי מקורב: ממוצע = 1/λ, שונות = 1/(k*λ^2)\n",
    "mu = 1/lam\n",
    "sigma = 1/(lam*np.sqrt(k))\n",
    "\n",
    "xs = np.linspace(mu - 4*sigma, mu + 4*sigma, 400)\n",
    "pdf = (1.0/(sigma*np.sqrt(2*np.pi))) * np.exp(-0.5*((xs-mu)/sigma)**2)\n",
    "\n",
    "plt.figure(figsize=(6,4))\n",
    "plt.hist(means, bins=40, density=True)\n",
    "plt.plot(xs, pdf)\n",
    "plt.title(f\"CLT: ממוצע של {k} אקספוננציאליות — היסטוגרמה וגל פעמון מקורב\")\n",
    "plt.xlabel(\"ממוצע קבוצה\")\n",
    "plt.ylabel(\"צפיפות\")\n",
    "plt.show()\n"
   ]
  },
  {
   "cell_type": "markdown",
   "id": "9b0caca4",
   "metadata": {},
   "source": [
    "## היסטוגרמות — מה, למה ואיך\n",
    "\n",
    "**היסטוגרמה** מחלקת את ציר \\\\(x\\\\) ל־*סלילים* (bins) וסופרת כמה דגימות נופלות בכל סליל.\n",
    "כאשר `density=True`, סך השטח מתחת לעמודות מנורמל ל־1: זהו קירוב ל־PDF (בהתפלגויות רציפות).\n",
    "\n",
    "### בחירת מספר סלילים\n",
    "אין כלל אחד \"נכון\", אבל כללי אצבע שימושיים:\n",
    "- \\\\(\\sqrt{N}\\\\) (שורש מספר הדגימות).\n",
    "- **Sturges**: \\\\(\\lceil \\log_2(N) + 1 \\rceil\\\\).\n",
    "- **Freedman–Diaconis**: רוחב סליל \\\\(h = 2\\cdot IQR\\cdot N^{-1/3}\\\\), ואז מספר סלילים \\\\((\\max-\\min)/h\\\\).\n",
    "\n",
    "נדגים אלגוריתם Freedman–Diaconis בפועל.\n"
   ]
  },
  {
   "cell_type": "code",
   "execution_count": null,
   "id": "8beaa2d7",
   "metadata": {},
   "outputs": [],
   "source": [
    "# דוגמה עם התפלגות נורמלית\n",
    "data = rng.normal(0, 1, size=6000)\n",
    "\n",
    "q25, q75 = np.quantile(data, [0.25, 0.75])\n",
    "iqr = q75 - q25\n",
    "n = data.size\n",
    "h = 2 * iqr * (n ** (-1/3))\n",
    "if h == 0:\n",
    "    bins = 30  # מקרה קצה\n",
    "else:\n",
    "    bins = int(np.ceil((data.max() - data.min()) / h))\n",
    "\n",
    "plot_hist(data, bins=bins, density=True,\n",
    "          title=f\"היסטוגרמה עם Freedman–Diaconis (bins≈{bins})\",\n",
    "          xlabel=\"x\", ylabel=\"צפיפות\")\n"
   ]
  },
  {
   "cell_type": "markdown",
   "id": "8498c46f",
   "metadata": {},
   "source": [
    "### `numpy.histogram` לעומת `plt.hist`\n",
    "\n",
    "- `numpy.histogram` **מחזירה** מערכים: `counts, bin_edges` — לספירה/חישוב נוסף.\n",
    "- `plt.hist` **מציירת** היסטוגרמה, ויכולה גם להחזיר את אותם נתונים למי שרוצה.\n",
    "\n",
    "נחשב הסתברות אמפירית בעזרת `numpy.histogram`.\n"
   ]
  },
  {
   "cell_type": "code",
   "execution_count": null,
   "id": "5688a21e",
   "metadata": {},
   "outputs": [],
   "source": [
    "# דוגמה: הסתברות אמפירית ל- X > 1.5 כאשר X ~ N(0,1) (אמפירי, לא תיאורטי)\n",
    "data = rng.normal(0, 1, size=100000)\n",
    "threshold = 1.5\n",
    "\n",
    "# דרך ישירה:\n",
    "prob_empirical = np.mean(data > threshold)\n",
    "print(\"P(X>1.5) אמפירית (ישירה):\", prob_empirical)\n",
    "\n",
    "# דרך היסטוגרמה: נסכם את הסלילים שהקצה הימני שלהם גדול מ-1.5 ונחלק ב-N\n",
    "counts, edges = np.histogram(data, bins=60, density=False)\n",
    "N = data.size\n",
    "# מרכזי סלילים\n",
    "centers = 0.5*(edges[:-1] + edges[1:])\n",
    "mask = centers > threshold\n",
    "prob_from_hist = counts[mask].sum() / N\n",
    "print(\"P(X>1.5) אמפירית (מסלילים):\", prob_from_hist)"
   ]
  },
  {
   "cell_type": "markdown",
   "id": "030eef94",
   "metadata": {},
   "source": [
    "### פונקציית התפלגות מצטברת (CDF) אמפירית קצרה\n",
    "\n",
    "ה־CDF של משתנה מקרי רציף הוא \\\\(F(x)=P(X\\\\le x)\\\\). אמפירית אפשר להעריך על ידי מיון והצטברות.\n"
   ]
  },
  {
   "cell_type": "code",
   "execution_count": null,
   "id": "fe37195a",
   "metadata": {},
   "outputs": [],
   "source": [
    "# CDF אמפירית עבור דגימות נורמליות\n",
    "data = rng.normal(0, 1, size=20000)\n",
    "x_eval = np.linspace(-3.5, 3.5, 200)\n",
    "# לכל x נחושב חלק יחסי של דגימות <= x (יעיל פחות, אבל ברור)\n",
    "cdf_emp = np.array([(data <= x).mean() for x in x_eval])\n",
    "\n",
    "plt.figure(figsize=(6,4))\n",
    "plt.plot(x_eval, cdf_emp)\n",
    "plt.title(\"CDF אמפירית — N(0,1)\")\n",
    "plt.xlabel(\"x\")\n",
    "plt.ylabel(\"F(x) ≈ P(X≤x)\")\n",
    "plt.show()\n"
   ]
  },
  {
   "cell_type": "markdown",
   "id": "c347c6ae",
   "metadata": {},
   "source": [
    "## מה לקחת הלאה\n",
    "- דגימה מהתפלגויות נפוצות באמצעות `rng` מאפשרת סימולציה מהירה ונשלטת.\n",
    "- היסטוגרמות הן כלי חזותי מרכזי להבנת הצורה של התפלגות ולבדיקת השערות.\n",
    "- LLN ו־CLT מסבירים למה ממוצעים \"מתנהגים יפה\" וכיצד התפלגויות מסתכמות/מתמוצעות לכיוון נורמלי.\n",
    "\n",
    "> טיפ: כאשר בוחרים bins, נסו כמה כללים ובדקו שהמסקנות **לא תלויות** בבחירה פרטנית מידי.\n"
   ]
  }
 ],
 "metadata": {},
 "nbformat": 4,
 "nbformat_minor": 5
}
