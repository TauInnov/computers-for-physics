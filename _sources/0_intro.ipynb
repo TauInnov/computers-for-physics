{
 "cells": [
  {
   "cell_type": "code",
   "execution_count": 2,
   "id": "9ce324cd-a8f2-427d-8357-48a383eae9fc",
   "metadata": {
    "tags": [
     "remove-cell"
    ]
   },
   "outputs": [
    {
     "data": {
      "text/html": [
       "<script>\n",
       "(function() {\n",
       "  // Create the toggle button\n",
       "  const rtlButton = document.createElement(\"button\");\n",
       "  rtlButton.textContent = \"Toggle LTR\";\n",
       "  rtlButton.id = \"top-rtl-toggle\";\n",
       "  rtlButton.style.marginLeft = \"8px\";\n",
       "  rtlButton.style.padding = \"4px 10px\";\n",
       "  rtlButton.style.fontSize = \"14px\";\n",
       "  rtlButton.style.cursor = \"pointer\";\n",
       "\n",
       "  // State\n",
       "  var rtlActive = false;\n",
       "\n",
       "  // Styling function\n",
       "  var applyStyleToEditor = (editor) => {\n",
       "    if (!editor) return;\n",
       "    var direction = getComputedStyle(editor).getPropertyValue('direction')=='rtl' ? 'ltr' : 'rtl';\n",
       "    var text_align = getComputedStyle(editor).getPropertyValue('text-align')=='right' ? 'left' : 'right';\n",
       "    editor.style.setProperty('direction', direction, 'important');\n",
       "    editor.style.setProperty('text-align', text_align, 'important');\n",
       "  };\n",
       "\n",
       "  // Toggle logic\n",
       "  rtlButton.onclick = () => {\n",
       "    rtlActive = !rtlActive;\n",
       "    rtlButton.textContent = rtlActive ? \"Toggle LTR\" : \"Toggle RTL\";\n",
       "    document.querySelectorAll('.jp-MarkdownCell .jp-InputArea-editor').forEach(applyStyleToEditor);\n",
       "    document.querySelectorAll('.jp-RenderedHTMLCommon code, .jp-RenderedHTMLCommon code span').forEach(applyStyleToEditor);\n",
       "    document.querySelectorAll('jp-RenderedHTMLCommon, .jp-RenderedHTMLCommon *').forEach(applyStyleToEditor);\n",
       "  };\n",
       "\n",
       "  // Watch for focus into editing Markdown cells\n",
       "  // document.addEventListener('focusin', (event) => {\n",
       "  //   const editor = event.target.closest('.jp-MarkdownCell .jp-InputArea-editor');\n",
       "  //    if (editor) applyStyleToEditor(editor);\n",
       "  // });\n",
       "\n",
       "  // Insert into top toolbar if not already present\n",
       "  var insertIntoToolbar = () => {\n",
       "    const toolbar = document.querySelector('.jp-NotebookPanel-toolbar');\n",
       "    if (toolbar && !document.getElementById(\"top-rtl-toggle\")) {\n",
       "      toolbar.appendChild(rtlButton);\n",
       "    } else {\n",
       "      // Try again in a moment if toolbar isn't ready yet\n",
       "      setTimeout(insertIntoToolbar, 300);\n",
       "    }\n",
       "  };\n",
       "\n",
       "  insertIntoToolbar();\n",
       "})();\n",
       "</script>\n"
      ],
      "text/plain": [
       "<IPython.core.display.HTML object>"
      ]
     },
     "metadata": {},
     "output_type": "display_data"
    }
   ],
   "source": [
    "%%html\n",
    "<script>\n",
    "(function() {\n",
    "  // Create the toggle button\n",
    "  const rtlButton = document.createElement(\"button\");\n",
    "  rtlButton.textContent = \"Toggle LTR\";\n",
    "  rtlButton.id = \"top-rtl-toggle\";\n",
    "  rtlButton.style.marginLeft = \"8px\";\n",
    "  rtlButton.style.padding = \"4px 10px\";\n",
    "  rtlButton.style.fontSize = \"14px\";\n",
    "  rtlButton.style.cursor = \"pointer\";\n",
    "\n",
    "  // State\n",
    "  var rtlActive = false;\n",
    "\n",
    "  // Styling function\n",
    "  var applyStyleToEditor = (editor) => {\n",
    "    if (!editor) return;\n",
    "    var direction = getComputedStyle(editor).getPropertyValue('direction')=='rtl' ? 'ltr' : 'rtl';\n",
    "    var text_align = getComputedStyle(editor).getPropertyValue('text-align')=='right' ? 'left' : 'right';\n",
    "    editor.style.setProperty('direction', direction, 'important');\n",
    "    editor.style.setProperty('text-align', text_align, 'important');\n",
    "  };\n",
    "\n",
    "  // Toggle logic\n",
    "  rtlButton.onclick = () => {\n",
    "    rtlActive = !rtlActive;\n",
    "    rtlButton.textContent = rtlActive ? \"Toggle LTR\" : \"Toggle RTL\";\n",
    "    document.querySelectorAll('.jp-MarkdownCell .jp-InputArea-editor').forEach(applyStyleToEditor);\n",
    "    document.querySelectorAll('.jp-RenderedHTMLCommon code, .jp-RenderedHTMLCommon code span').forEach(applyStyleToEditor);\n",
    "    document.querySelectorAll('jp-RenderedHTMLCommon, .jp-RenderedHTMLCommon *').forEach(applyStyleToEditor);\n",
    "  };\n",
    "\n",
    "  // Watch for focus into editing Markdown cells\n",
    "  // document.addEventListener('focusin', (event) => {\n",
    "  //   const editor = event.target.closest('.jp-MarkdownCell .jp-InputArea-editor');\n",
    "  //    if (editor) applyStyleToEditor(editor);\n",
    "  // });\n",
    "\n",
    "  // Insert into top toolbar if not already present\n",
    "  var insertIntoToolbar = () => {\n",
    "    const toolbar = document.querySelector('.jp-NotebookPanel-toolbar');\n",
    "    if (toolbar && !document.getElementById(\"top-rtl-toggle\")) {\n",
    "      toolbar.appendChild(rtlButton);\n",
    "    } else {\n",
    "      // Try again in a moment if toolbar isn't ready yet\n",
    "      setTimeout(insertIntoToolbar, 300);\n",
    "    }\n",
    "  };\n",
    "\n",
    "  insertIntoToolbar();\n",
    "})();\n",
    "</script>"
   ]
  },
  {
   "cell_type": "code",
   "execution_count": 5,
   "id": "2d7af840",
   "metadata": {
    "slideshow": {
     "slide_type": "skip"
    },
    "tags": [
     "remove-cell"
    ]
   },
   "outputs": [
    {
     "data": {
      "text/html": [
       "<!-- <style>\n",
       "  table {display: inline-block}\n",
       "</style> -->\n"
      ],
      "text/plain": [
       "<IPython.core.display.HTML object>"
      ]
     },
     "metadata": {},
     "output_type": "display_data"
    }
   ],
   "source": [
    "%%html\n",
    "<!-- <style>\n",
    "  table {display: inline-block}\n",
    "</style> -->\n"
   ]
  },
  {
   "cell_type": "markdown",
   "id": "7bd1a2bf-1fd9-44a6-a279-8f18b3d53681",
   "metadata": {},
   "source": [
    "# מנהלות"
   ]
  },
  {
   "cell_type": "markdown",
   "id": "91dd9484-adf2-4aef-89b3-38f10b2ce4b5",
   "metadata": {},
   "source": [
    "# הקדמה"
   ]
  },
  {
   "cell_type": "code",
   "execution_count": 1,
   "id": "12b1432b-1439-427c-b6fd-c2798f9f4334",
   "metadata": {},
   "outputs": [
    {
     "data": {
      "text/html": [
       "<iframe width=\"560\" height=\"315\" src=\"https://www.youtube.com/embed/jCJC-SCcZYE?si=xgKTHYAVK0zG1Ecu\" title=\"YouTube video player\" frameborder=\"0\" allow=\"accelerometer; autoplay; clipboard-write; encrypted-media; gyroscope; picture-in-picture; web-share\" referrerpolicy=\"strict-origin-when-cross-origin\" allowfullscreen></iframe>\n"
      ],
      "text/plain": [
       "<IPython.core.display.HTML object>"
      ]
     },
     "metadata": {},
     "output_type": "display_data"
    }
   ],
   "source": [
    "%%html\n",
    "<iframe width=\"560\" height=\"315\" src=\"https://www.youtube.com/embed/jCJC-SCcZYE?si=xgKTHYAVK0zG1Ecu\" title=\"YouTube video player\" frameborder=\"0\" allow=\"accelerometer; autoplay; clipboard-write; encrypted-media; gyroscope; picture-in-picture; web-share\" referrerpolicy=\"strict-origin-when-cross-origin\" allowfullscreen></iframe>"
   ]
  },
  {
   "cell_type": "markdown",
   "id": "7c547d62",
   "metadata": {},
   "source": [
    "כמו כל תחום דעת מדעי, גם פיזיקה בעידן המודרני נשענת על שימוש במשאבי מחשב ותכנות. ועל כן, כחלק מהכשרתך הבסיסית בלימודי פיזיקה אנו מקיימים בשנה הראשונה קורס מבוא לרכישת ידע בסיסי בתכנות. קורס התכנות השנה מתרכז בשפת התכנות Python אשר הפכה בשנים האחרונות לכלי עזר מרכזי למרבית הפיזיקאים העוסקים בניסוי ותאוריה ברחבי העולם. במהלך הלימודים תתבקשו לבצע משימות תכנות כחלק משעורי הבית בלימודי הקורסים השונים בפיזיקה.  \n",
    "\n",
    "פורמט הקורס שונה משאר הקורסים אותו תלמדו במהלך התואר והוא מבוסס על למידה עצמאית עם אתר שנבנה במיוחד לקורס זה. האתר מלמד את עקרונות התכנות ומאפשר לכם להתנסות בכתיבת וקריאת קוד, מציאת בעיות בקוד תוך כדי אפשרות להרצה של הקוד באתר עצמו. קישור לאתר האינטראקטיבי של הקורס ישלח לכם בתחילת השנה ויופיע באתר ה moodle של הקורס.\n"
   ]
  },
  {
   "cell_type": "markdown",
   "id": "2b248a5b",
   "metadata": {
    "slideshow": {
     "slide_type": "slide"
    }
   },
   "source": [
    "### מטרות הקורס\n",
    "- הטמעת חשיבה לוגית מוכוונת-פייתון לפתרון יעיל של בעיות פיזיקליות\n",
    "- הקניית כלי-ליבה באלגברה לינארית ובסימולציה של מודלים חישוביים בפיזיקה\n",
    "- פיתוח כישורי ניתוח נתונים וניהול משאבים מושכל"
   ]
  },
  {
   "cell_type": "markdown",
   "id": "b53c5d17",
   "metadata": {
    "slideshow": {
     "slide_type": "slide"
    }
   },
   "source": [
    "### תוכנית הלימודים:\n",
    "- יסודות התכנות ב-Python  \n",
    "- חישובים מדעיים (Numpy)  \n",
    "- ניתוח נתונים (Pandas)  \n",
    "- הצגת נתונים (Pandas)"
   ]
  },
  {
   "cell_type": "markdown",
   "id": "80e68381-0a90-48eb-82d4-a310867e5136",
   "metadata": {},
   "source": [
    "# מנהלה"
   ]
  },
  {
   "cell_type": "markdown",
   "id": "e34e018f",
   "metadata": {
    "slideshow": {
     "slide_type": "subslide"
    }
   },
   "source": [
    "#### אתר הקורס: [http://courses.cs.tau.ac.il/pyProg/2425b/](http://courses.cs.tau.ac.il/pyProg/2425b/)\n",
    "\n",
    "#### מודל: [https://moodle.tau.ac.il/course/view.php?id=50918202098](https://moodle.tau.ac.il/course/view.php?id=50918202098)\n",
    "\n",
    "בשבוע הראשון ללימודים נפגש למפגש פתיחה עם פרופ׳ רועי בק-ברקאי, בו יוסברו עקרונות הקורס ויעדיו ואענה על שאלות הבהרה לגבי מהלך הקורס. הפגישה תתקיים באולם דאך, ביום ראשון 26.10.25, בשעה 17:00.   \n",
    "\n",
    "אחת לשבועיים / שלושה תתקיים שעת תרגול בה תחדדו את אשר למדתם באופן עצמאי עם המתרגל בכיתת המחשבים בבניין דן-דוד. פרטים מדויקים על תאריכי התרגולים יופיעו באתר ה moodleשל הקורס.\n",
    "\n",
    "מי שיודע לתכנת ברמה מספקת ניתנת האפשרות לגשת למבחן פטור בתחילת הסמסטר, ביום שישי השני של הסמסטר (7.11.25). פרטים נוספים על הבחינה יינתנו במפגש הראשון של הקורס ובתכתובות באתר הקורס. החומר הנכלל בבחינת הפטור ניתן בסילבוס הקורס.\n",
    "\n",
    "במהלך הסמסטר יתקיימו 4 מבדקים. המבדקים יהיו על החומר הנלמד בלמידה העצמאית והתרגולים ועל פי חלוקת השבועות שמופיעה בסילבוס. המבדקים יתקיימו בשעות ״השיעור״ בימי ראשון בשעה 17:00. חובת הגעה למבדקים. תאריכי המבדקים הצפויים הם: 23.11, 14.12, 4.1, 25.1. \n",
    "\n",
    "שלושת הבחנים הראשונים שווים 20 נקודות והבוחן האחרון 40 נקודות.\n",
    "בנוסף, עבור אלו שפספסו שני בחנים מסיבות מוצדקות (מילואים / מחלה וכד׳) יינתן בוחן השלמות נוסף ב18.1. \n",
    "בקורס זה לא ניתן ציון מספרי והוא לא נכלל בממוצע הציונים לתואר. ע״מ לעבור את הקורס אתם נדרשים להיות נוכחים בלפחות שלוש בחנים ולהשיג ציון מצטבר של 60 נקודות.  \n",
    "\n"
   ]
  },
  {
   "cell_type": "markdown",
   "id": "c6861b6a",
   "metadata": {
    "slideshow": {
     "slide_type": "subslide"
    }
   },
   "source": [
    "### תרגול\n"
   ]
  },
  {
   "cell_type": "markdown",
   "id": "8683ed13",
   "metadata": {},
   "source": []
  }
 ],
 "metadata": {
  "celltoolbar": "Slideshow",
  "kernelspec": {
   "display_name": "Python 3",
   "language": "python",
   "name": "python3"
  },
  "language_info": {
   "codemirror_mode": {
    "name": "ipython",
    "version": 3
   },
   "file_extension": ".py",
   "mimetype": "text/x-python",
   "name": "python",
   "nbconvert_exporter": "python",
   "pygments_lexer": "ipython3",
   "version": "3.12.1"
  }
 },
 "nbformat": 4,
 "nbformat_minor": 5
}
