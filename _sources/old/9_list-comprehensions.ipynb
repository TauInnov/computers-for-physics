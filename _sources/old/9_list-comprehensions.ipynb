{
 "cells": [
  {
   "cell_type": "code",
   "execution_count": 8,
   "id": "7e548e8d-cb63-4291-855a-e784ac8f74c5",
   "metadata": {
    "slideshow": {
     "slide_type": "skip"
    },
    "tags": [
     "remove-cell"
    ]
   },
   "outputs": [
    {
     "data": {
      "text/html": [
       "<!-- RTL Fix the jupyter notebook 7  -->\n",
       "<style>\n",
       "    .jp-RenderedHTMLCommon {\n",
       "        padding-top: 2em !important;\n",
       "  }   \n",
       "    .jp-RenderedHTMLCommon, .jp-RenderedHTMLCommon * {\n",
       "        direction: rtl !important;\n",
       "        text-align:right !important;\n",
       "  }\n",
       "    .jp-MarkdownCell .jp-InputArea-editor {\n",
       "        direction: rtl !important; \n",
       "        text-align:right !important;\n",
       "        padding-top: 2em !important;\n",
       "  } \n",
       "\n",
       " .jp-RenderedHTMLCommon code, .jp-RenderedHTMLCommon code span {\n",
       "        text-align:left !important;\n",
       "        direction: ltr !important;\n",
       "        unicode-bidi: embed !important;\n",
       "\n",
       "    }\n",
       "    .jp-RenderedHTMLCommon pre:has(code) {\n",
       "      direction: ltr !important;\n",
       "      text-align: left!important;\n",
       "    }\n",
       "\n",
       "</style> \n"
      ],
      "text/plain": [
       "<IPython.core.display.HTML object>"
      ]
     },
     "metadata": {},
     "output_type": "display_data"
    }
   ],
   "source": [
    "%%html\n",
    "<!-- RTL Fix the jupyter notebook 7  -->\n",
    "<style>\n",
    "    .jp-RenderedHTMLCommon {\n",
    "        padding-top: 2em !important;\n",
    "  }   \n",
    "    .jp-RenderedHTMLCommon, .jp-RenderedHTMLCommon * {\n",
    "        direction: rtl !important;\n",
    "        text-align:right !important;\n",
    "  }\n",
    "    .jp-MarkdownCell .jp-InputArea-editor {\n",
    "        direction: rtl !important; \n",
    "        text-align:right !important;\n",
    "        padding-top: 2em !important;\n",
    "  } \n",
    "\n",
    " .jp-RenderedHTMLCommon code, .jp-RenderedHTMLCommon code span {\n",
    "        text-align:left !important;\n",
    "        direction: ltr !important;\n",
    "        unicode-bidi: embed !important;\n",
    "\n",
    "    }\n",
    "    .jp-RenderedHTMLCommon pre:has(code) {\n",
    "      direction: ltr !important;\n",
    "      text-align: left!important;\n",
    "    }\n",
    "\n",
    "</style> "
   ]
  },
  {
   "cell_type": "code",
   "execution_count": 12,
   "id": "2f2d03fd-729e-439a-9ab0-de58c598e9ca",
   "metadata": {
    "tags": [
     "remove-cell"
    ]
   },
   "outputs": [
    {
     "data": {
      "text/html": [
       "<script>\n",
       "(function() {\n",
       "  // Create the toggle button\n",
       "  const rtlButton = document.createElement(\"button\");\n",
       "  rtlButton.textContent = \"Toggle LTR\";\n",
       "  rtlButton.id = \"top-rtl-toggle\";\n",
       "  rtlButton.style.marginLeft = \"8px\";\n",
       "  rtlButton.style.padding = \"4px 10px\";\n",
       "  rtlButton.style.fontSize = \"14px\";\n",
       "  rtlButton.style.cursor = \"pointer\";\n",
       "\n",
       "  // State\n",
       "  var rtlActive = false;\n",
       "\n",
       "  // Styling function\n",
       "  var applyStyleToEditor = (editor) => {\n",
       "    if (!editor) return;\n",
       "    var direction = getComputedStyle(editor).getPropertyValue('direction')=='rtl' ? 'ltr' : 'rtl';\n",
       "    var text_align = getComputedStyle(editor).getPropertyValue('text-align')=='right' ? 'left' : 'right';\n",
       "    editor.style.setProperty('direction', direction, 'important');\n",
       "    editor.style.setProperty('text-align', text_align, 'important');\n",
       "  };\n",
       "\n",
       "  // Toggle logic\n",
       "  rtlButton.onclick = () => {\n",
       "    rtlActive = !rtlActive;\n",
       "    rtlButton.textContent = rtlActive ? \"Toggle LTR\" : \"Toggle RTL\";\n",
       "    document.querySelectorAll('.jp-MarkdownCell .jp-InputArea-editor').forEach(applyStyleToEditor);\n",
       "    document.querySelectorAll('.jp-RenderedHTMLCommon code, .jp-RenderedHTMLCommon code span').forEach(applyStyleToEditor);\n",
       "    document.querySelectorAll('jp-RenderedHTMLCommon, .jp-RenderedHTMLCommon *').forEach(applyStyleToEditor);\n",
       "  };\n",
       "\n",
       "  // Watch for focus into editing Markdown cells\n",
       "  // document.addEventListener('focusin', (event) => {\n",
       "  //   const editor = event.target.closest('.jp-MarkdownCell .jp-InputArea-editor');\n",
       "  //    if (editor) applyStyleToEditor(editor);\n",
       "  // });\n",
       "\n",
       "  // Insert into top toolbar if not already present\n",
       "  var insertIntoToolbar = () => {\n",
       "    const toolbar = document.querySelector('.jp-NotebookPanel-toolbar');\n",
       "    if (toolbar && !document.getElementById(\"top-rtl-toggle\")) {\n",
       "      toolbar.appendChild(rtlButton);\n",
       "    } else {\n",
       "      // Try again in a moment if toolbar isn't ready yet\n",
       "      setTimeout(insertIntoToolbar, 300);\n",
       "    }\n",
       "  };\n",
       "\n",
       "  insertIntoToolbar();\n",
       "})();\n",
       "</script>\n"
      ],
      "text/plain": [
       "<IPython.core.display.HTML object>"
      ]
     },
     "metadata": {},
     "output_type": "display_data"
    }
   ],
   "source": [
    "%%html\n",
    "<script>\n",
    "(function() {\n",
    "  // Create the toggle button\n",
    "  const rtlButton = document.createElement(\"button\");\n",
    "  rtlButton.textContent = \"Toggle LTR\";\n",
    "  rtlButton.id = \"top-rtl-toggle\";\n",
    "  rtlButton.style.marginLeft = \"8px\";\n",
    "  rtlButton.style.padding = \"4px 10px\";\n",
    "  rtlButton.style.fontSize = \"14px\";\n",
    "  rtlButton.style.cursor = \"pointer\";\n",
    "\n",
    "  // State\n",
    "  var rtlActive = false;\n",
    "\n",
    "  // Styling function\n",
    "  var applyStyleToEditor = (editor) => {\n",
    "    if (!editor) return;\n",
    "    var direction = getComputedStyle(editor).getPropertyValue('direction')=='rtl' ? 'ltr' : 'rtl';\n",
    "    var text_align = getComputedStyle(editor).getPropertyValue('text-align')=='right' ? 'left' : 'right';\n",
    "    editor.style.setProperty('direction', direction, 'important');\n",
    "    editor.style.setProperty('text-align', text_align, 'important');\n",
    "  };\n",
    "\n",
    "  // Toggle logic\n",
    "  rtlButton.onclick = () => {\n",
    "    rtlActive = !rtlActive;\n",
    "    rtlButton.textContent = rtlActive ? \"Toggle LTR\" : \"Toggle RTL\";\n",
    "    document.querySelectorAll('.jp-MarkdownCell .jp-InputArea-editor').forEach(applyStyleToEditor);\n",
    "    document.querySelectorAll('.jp-RenderedHTMLCommon code, .jp-RenderedHTMLCommon code span').forEach(applyStyleToEditor);\n",
    "    document.querySelectorAll('jp-RenderedHTMLCommon, .jp-RenderedHTMLCommon *').forEach(applyStyleToEditor);\n",
    "  };\n",
    "\n",
    "  // Watch for focus into editing Markdown cells\n",
    "  // document.addEventListener('focusin', (event) => {\n",
    "  //   const editor = event.target.closest('.jp-MarkdownCell .jp-InputArea-editor');\n",
    "  //    if (editor) applyStyleToEditor(editor);\n",
    "  // });\n",
    "\n",
    "  // Insert into top toolbar if not already present\n",
    "  var insertIntoToolbar = () => {\n",
    "    const toolbar = document.querySelector('.jp-NotebookPanel-toolbar');\n",
    "    if (toolbar && !document.getElementById(\"top-rtl-toggle\")) {\n",
    "      toolbar.appendChild(rtlButton);\n",
    "    } else {\n",
    "      // Try again in a moment if toolbar isn't ready yet\n",
    "      setTimeout(insertIntoToolbar, 300);\n",
    "    }\n",
    "  };\n",
    "\n",
    "  insertIntoToolbar();\n",
    "})();\n",
    "</script>"
   ]
  },
  {
   "cell_type": "markdown",
   "id": "5c29b143-9cd9-4b90-9419-2eb1437befc0",
   "metadata": {},
   "source": [
    "# רשימות חלק ב'"
   ]
  },
  {
   "cell_type": "markdown",
   "id": "7622d85e",
   "metadata": {
    "slideshow": {
     "slide_type": "subslide"
    }
   },
   "source": [
    "### יצירת רשימות בשורה אחת: List Comprehension"
   ]
  },
  {
   "cell_type": "markdown",
   "id": "cb231564",
   "metadata": {
    "slideshow": {
     "slide_type": "fragment"
    }
   },
   "source": [
    "- דרך פייתונית ליצירת רשימות.\n",
    "- שילוב של רשימות ולולאות for.\n",
    "- תחביר:\n",
    "    - `[expression for item in list]`\n",
    "- אפשר גם לכתוב:\n",
    "    - `[expression for item in list if condition]`\n"
   ]
  },
  {
   "cell_type": "markdown",
   "id": "17a47ea1",
   "metadata": {
    "slideshow": {
     "slide_type": "subslide"
    }
   },
   "source": [
    "### יצירת רשימות בשורה אחת: דוגמא"
   ]
  },
  {
   "cell_type": "markdown",
   "id": "b7b9a93e",
   "metadata": {
    "slideshow": {
     "slide_type": "fragment"
    }
   },
   "source": [
    "במקום"
   ]
  },
  {
   "cell_type": "code",
   "execution_count": null,
   "id": "57f392fd",
   "metadata": {
    "execution": {
     "iopub.execute_input": "2025-03-10T07:47:04.269389Z",
     "iopub.status.busy": "2025-03-10T07:47:04.269095Z",
     "iopub.status.idle": "2025-03-10T07:47:04.274159Z",
     "shell.execute_reply": "2025-03-10T07:47:04.273428Z"
    },
    "slideshow": {
     "slide_type": "fragment"
    }
   },
   "outputs": [],
   "source": [
    "my_list = []\n",
    "for i in range(10):\n",
    "    my_list.append(i*i)\n",
    "my_list"
   ]
  },
  {
   "cell_type": "markdown",
   "id": "09ca3ef5",
   "metadata": {
    "slideshow": {
     "slide_type": "fragment"
    }
   },
   "source": [
    "ניתן לכתוב כך:"
   ]
  },
  {
   "cell_type": "code",
   "execution_count": null,
   "id": "8be436f9",
   "metadata": {
    "execution": {
     "iopub.execute_input": "2025-03-10T07:47:04.277190Z",
     "iopub.status.busy": "2025-03-10T07:47:04.276895Z",
     "iopub.status.idle": "2025-03-10T07:47:04.281684Z",
     "shell.execute_reply": "2025-03-10T07:47:04.280966Z"
    },
    "slideshow": {
     "slide_type": "fragment"
    }
   },
   "outputs": [],
   "source": [
    "[i**2 for i in range(10)]"
   ]
  },
  {
   "cell_type": "markdown",
   "id": "036f1b9d",
   "metadata": {
    "slideshow": {
     "slide_type": "subslide"
    }
   },
   "source": [
    "### דוגמאות נוספות"
   ]
  },
  {
   "cell_type": "code",
   "execution_count": null,
   "id": "79a887c2",
   "metadata": {
    "execution": {
     "iopub.execute_input": "2025-03-10T07:47:04.284818Z",
     "iopub.status.busy": "2025-03-10T07:47:04.284334Z",
     "iopub.status.idle": "2025-03-10T07:47:04.287947Z",
     "shell.execute_reply": "2025-03-10T07:47:04.287232Z"
    },
    "slideshow": {
     "slide_type": "fragment"
    }
   },
   "outputs": [],
   "source": [
    "l = ['The', 'quick', 'brown', 'fox', 'jumps', 'over', 'the', 'lazy', 'dog']"
   ]
  },
  {
   "cell_type": "code",
   "execution_count": null,
   "id": "b5de6c87",
   "metadata": {
    "execution": {
     "iopub.execute_input": "2025-03-10T07:47:04.290736Z",
     "iopub.status.busy": "2025-03-10T07:47:04.290440Z",
     "iopub.status.idle": "2025-03-10T07:47:04.295196Z",
     "shell.execute_reply": "2025-03-10T07:47:04.294482Z"
    },
    "slideshow": {
     "slide_type": "fragment"
    }
   },
   "outputs": [],
   "source": [
    "[word.upper() for word in l]"
   ]
  },
  {
   "cell_type": "code",
   "execution_count": null,
   "id": "e6977961",
   "metadata": {
    "execution": {
     "iopub.execute_input": "2025-03-10T07:47:04.298124Z",
     "iopub.status.busy": "2025-03-10T07:47:04.297837Z",
     "iopub.status.idle": "2025-03-10T07:47:04.302569Z",
     "shell.execute_reply": "2025-03-10T07:47:04.301870Z"
    },
    "slideshow": {
     "slide_type": "fragment"
    }
   },
   "outputs": [],
   "source": [
    "[word for word in l if len(word) < 4]"
   ]
  },
  {
   "cell_type": "code",
   "execution_count": null,
   "id": "00ffe971",
   "metadata": {},
   "outputs": [],
   "source": [
    "[i ** 2 if i % 3 == 0 else i ** 3 for i in range(2, 13) if i % 6 != 0]"
   ]
  }
 ],
 "metadata": {
  "celltoolbar": "Slideshow",
  "kernelspec": {
   "display_name": "Python 3 (ipykernel)",
   "language": "python",
   "name": "python3"
  },
  "language_info": {
   "codemirror_mode": {
    "name": "ipython",
    "version": 3
   },
   "file_extension": ".py",
   "mimetype": "text/x-python",
   "name": "python",
   "nbconvert_exporter": "python",
   "pygments_lexer": "ipython3",
   "version": "3.11.12"
  }
 },
 "nbformat": 4,
 "nbformat_minor": 5
}
