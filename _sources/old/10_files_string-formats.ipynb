{
 "cells": [
  {
   "cell_type": "code",
   "execution_count": null,
   "id": "b95b5fb4",
   "metadata": {
    "execution": {
     "iopub.execute_input": "2025-03-10T07:47:50.850590Z",
     "iopub.status.busy": "2025-03-10T07:47:50.850261Z",
     "iopub.status.idle": "2025-03-10T07:47:50.867220Z",
     "shell.execute_reply": "2025-03-10T07:47:50.866344Z"
    },
    "slideshow": {
     "slide_type": "skip"
    },
    "tags": [
     "remove-cell"
    ]
   },
   "outputs": [],
   "source": [
    "%%html\n",
    "<style>\n",
    "table {display: inline-block}\n",
    "td {text-align:left}\n",
    ".consoleMachineFont {color:blue;font-family:Courier}\n",
    ".consoleUserFont {font-family:Courier}\n",
    "</style>"
   ]
  },
  {
   "cell_type": "markdown",
   "id": "85d6931f",
   "metadata": {
    "slideshow": {
     "slide_type": "slide"
    }
   },
   "source": [
    "# פורמט מחרוזות"
   ]
  },
  {
   "cell_type": "markdown",
   "id": "ad99a469",
   "metadata": {
    "slideshow": {
     "slide_type": "subslide"
    }
   },
   "source": [
    "### עריכת מחרוזות לפני פורמט: String Formatting\n",
    "השתמשו ב- `str.format()` או בתחביר `f\"\"`/`f''` כדי להגדיר רפורמט של מחרוזת"
   ]
  },
  {
   "cell_type": "code",
   "execution_count": null,
   "id": "e71f447f",
   "metadata": {
    "execution": {
     "iopub.execute_input": "2025-03-10T07:47:50.871003Z",
     "iopub.status.busy": "2025-03-10T07:47:50.870624Z",
     "iopub.status.idle": "2025-03-10T07:47:50.875525Z",
     "shell.execute_reply": "2025-03-10T07:47:50.874758Z"
    },
    "slideshow": {
     "slide_type": "fragment"
    }
   },
   "outputs": [],
   "source": [
    "name = 'rick'\n",
    "pi = 3.14159265359\n",
    "\n",
    "# print(\"My name is {0} and I like {1}\".format(name, pi))\n",
    "# print(\"My name is {} and I like {}\".format(name, pi))\n",
    "print(f\"My name is {name} and I like {pi}\")"
   ]
  },
  {
   "cell_type": "markdown",
   "id": "4de6b3e3",
   "metadata": {
    "slideshow": {
     "slide_type": "subslide"
    }
   },
   "source": [
    "### בהדפסות, לרוב נרצה להציג את המספרים בצורה קריאה יותר"
   ]
  },
  {
   "cell_type": "markdown",
   "id": "fe39bc22",
   "metadata": {
    "slideshow": {
     "slide_type": "fragment"
    }
   },
   "source": [
    "- עיגול מספרים עם הרבה ספרות אחרי הנקודה העשרונית\n",
    "- תצוגה מספרית שונה  \n",
    "    לדוגמה, מדעי: 1.3e-7 במקום 0.000000137\n"
   ]
  },
  {
   "cell_type": "markdown",
   "id": "de09d50e",
   "metadata": {
    "slideshow": {
     "slide_type": "fragment"
    }
   },
   "source": [
    "<code><span style='color:red'>:</span><span style='color:blue'>.d</span><span style='color:green'>S</span></code> - עיגול מספרים ותצוגת מספרים (`int`/`float`)  \n",
    "- <code><span style='color:red'>:</span></code> מציין היכן מתחילה עריכת התצוגה  \n",
    "- <code><span style='color:blue'>.d</span></code> רמת הדיוק — כמה ספרות אחרי הנקודה העשרונית  \n",
    "- <code><span style='color:green'>S</span></code> סגנון מספרי (נקודה עשרונית, אחוזים, מדעי וכו')\n"
   ]
  },
  {
   "cell_type": "code",
   "execution_count": null,
   "id": "6a55c919",
   "metadata": {
    "execution": {
     "iopub.execute_input": "2025-03-10T07:47:50.878716Z",
     "iopub.status.busy": "2025-03-10T07:47:50.878383Z",
     "iopub.status.idle": "2025-03-10T07:47:50.882584Z",
     "shell.execute_reply": "2025-03-10T07:47:50.881848Z"
    },
    "slideshow": {
     "slide_type": "fragment"
    }
   },
   "outputs": [],
   "source": [
    "# print(\"My name is {0} and I like {1:.2f}\".format(name, pi))\n",
    "# print(\"My name is {} and I like {:.2e}\".format(name, pi))\n",
    "print(f\"My name is {name} and I like {0.00137:.1e}\")"
   ]
  },
  {
   "cell_type": "markdown",
   "id": "163a6551",
   "metadata": {
    "slideshow": {
     "slide_type": "fragment"
    }
   },
   "source": [
    "מידע נוסף: https://docs.python.org/3/library/string.html#format-examples\n"
   ]
  }
 ],
 "metadata": {
  "celltoolbar": "Slideshow",
  "kernelspec": {
   "display_name": "Python 3 (ipykernel)",
   "language": "python",
   "name": "python3"
  },
  "language_info": {
   "codemirror_mode": {
    "name": "ipython",
    "version": 3
   },
   "file_extension": ".py",
   "mimetype": "text/x-python",
   "name": "python",
   "nbconvert_exporter": "python",
   "pygments_lexer": "ipython3",
   "version": "3.11.12"
  }
 },
 "nbformat": 4,
 "nbformat_minor": 5
}
