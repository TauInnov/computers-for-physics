{
 "cells": [
  {
   "cell_type": "code",
   "execution_count": null,
   "id": "7e548e8d-cb63-4291-855a-e784ac8f74c5",
   "metadata": {
    "slideshow": {
     "slide_type": "skip"
    },
    "tags": [
     "remove-cell"
    ]
   },
   "outputs": [
    {
     "data": {
      "text/html": [
       "<!-- RTL Fix the jupyter notebook 7  -->\n",
       "<style>\n",
       "    .jp-RenderedHTMLCommon {\n",
       "        padding-top: 2em !important;\n",
       "  }   \n",
       "    .jp-RenderedHTMLCommon, .jp-RenderedHTMLCommon * {\n",
       "        direction: rtl !important;\n",
       "        text-align:right !important;\n",
       "  }\n",
       "    .jp-MarkdownCell .jp-InputArea-editor {\n",
       "        direction: rtl !important; \n",
       "        text-align:right !important;\n",
       "        padding-top: 2em !important;\n",
       "  } \n",
       "\n",
       " .jp-RenderedHTMLCommon code, .jp-RenderedHTMLCommon code span {\n",
       "        text-align:left !important;\n",
       "        direction: ltr !important;\n",
       "        unicode-bidi: embed !important;\n",
       "\n",
       "    }\n",
       "    .jp-RenderedHTMLCommon pre:has(code) {\n",
       "      direction: ltr !important;\n",
       "      text-align: left!important;\n",
       "    }\n",
       "\n",
       "</style> \n"
      ],
      "text/plain": [
       "<IPython.core.display.HTML object>"
      ]
     },
     "metadata": {},
     "output_type": "display_data"
    }
   ],
   "source": [
    "%%html\n",
    "<script>\n",
    "(function() {\n",
    "  // Create the toggle button\n",
    "  const rtlButton = document.createElement(\"button\");\n",
    "  rtlButton.textContent = \"Toggle LTR\";\n",
    "  rtlButton.id = \"top-rtl-toggle\";\n",
    "  rtlButton.style.marginLeft = \"8px\";\n",
    "  rtlButton.style.padding = \"4px 10px\";\n",
    "  rtlButton.style.fontSize = \"14px\";\n",
    "  rtlButton.style.cursor = \"pointer\";\n",
    "\n",
    "  // State\n",
    "  var rtlActive = false;\n",
    "\n",
    "  // Styling function\n",
    "  var applyStyleToEditor = (editor) => {\n",
    "    if (!editor) return;\n",
    "    var direction = getComputedStyle(editor).getPropertyValue('direction')=='rtl' ? 'ltr' : 'rtl';\n",
    "    var text_align = getComputedStyle(editor).getPropertyValue('text-align')=='right' ? 'left' : 'right';\n",
    "    editor.style.setProperty('direction', direction, 'important');\n",
    "    editor.style.setProperty('text-align', text_align, 'important');\n",
    "  };\n",
    "\n",
    "  // Toggle logic\n",
    "  rtlButton.onclick = () => {\n",
    "    rtlActive = !rtlActive;\n",
    "    rtlButton.textContent = rtlActive ? \"Toggle LTR\" : \"Toggle RTL\";\n",
    "    document.querySelectorAll('.jp-MarkdownCell .jp-InputArea-editor').forEach(applyStyleToEditor);\n",
    "    document.querySelectorAll('.jp-RenderedHTMLCommon code, .jp-RenderedHTMLCommon code span').forEach(applyStyleToEditor);\n",
    "    document.querySelectorAll('jp-RenderedHTMLCommon, .jp-RenderedHTMLCommon *').forEach(applyStyleToEditor);\n",
    "  };\n",
    "\n",
    "  // Watch for focus into editing Markdown cells\n",
    "  // document.addEventListener('focusin', (event) => {\n",
    "  //   const editor = event.target.closest('.jp-MarkdownCell .jp-InputArea-editor');\n",
    "  //    if (editor) applyStyleToEditor(editor);\n",
    "  // });\n",
    "\n",
    "  // Insert into top toolbar if not already present\n",
    "  var insertIntoToolbar = () => {\n",
    "    const toolbar = document.querySelector('.jp-NotebookPanel-toolbar');\n",
    "    if (toolbar && !document.getElementById(\"top-rtl-toggle\")) {\n",
    "      toolbar.appendChild(rtlButton);\n",
    "    } else {\n",
    "      // Try again in a moment if toolbar isn't ready yet\n",
    "      setTimeout(insertIntoToolbar, 300);\n",
    "    }\n",
    "  };\n",
    "\n",
    "  insertIntoToolbar();\n",
    "})();\n",
    "</script>"
   ]
  },
  {
   "cell_type": "code",
   "execution_count": null,
   "id": "2f2d03fd-729e-439a-9ab0-de58c598e9ca",
   "metadata": {
    "tags": [
     "remove-cell"
    ]
   },
   "outputs": [
    {
     "data": {
      "text/html": [
       "<script>\n",
       "(function() {\n",
       "  // Create the toggle button\n",
       "  const rtlButton = document.createElement(\"button\");\n",
       "  rtlButton.textContent = \"Toggle LTR\";\n",
       "  rtlButton.id = \"top-rtl-toggle\";\n",
       "  rtlButton.style.marginLeft = \"8px\";\n",
       "  rtlButton.style.padding = \"4px 10px\";\n",
       "  rtlButton.style.fontSize = \"14px\";\n",
       "  rtlButton.style.cursor = \"pointer\";\n",
       "\n",
       "  // State\n",
       "  var rtlActive = false;\n",
       "\n",
       "  // Styling function\n",
       "  var applyStyleToEditor = (editor) => {\n",
       "    if (!editor) return;\n",
       "    var direction = getComputedStyle(editor).getPropertyValue('direction')=='rtl' ? 'ltr' : 'rtl';\n",
       "    var text_align = getComputedStyle(editor).getPropertyValue('text-align')=='right' ? 'left' : 'right';\n",
       "    editor.style.setProperty('direction', direction, 'important');\n",
       "    editor.style.setProperty('text-align', text_align, 'important');\n",
       "  };\n",
       "\n",
       "  // Toggle logic\n",
       "  rtlButton.onclick = () => {\n",
       "    rtlActive = !rtlActive;\n",
       "    rtlButton.textContent = rtlActive ? \"Toggle LTR\" : \"Toggle RTL\";\n",
       "    document.querySelectorAll('.jp-MarkdownCell .jp-InputArea-editor').forEach(applyStyleToEditor);\n",
       "    document.querySelectorAll('.jp-RenderedHTMLCommon code, .jp-RenderedHTMLCommon code span').forEach(applyStyleToEditor);\n",
       "    document.querySelectorAll('jp-RenderedHTMLCommon, .jp-RenderedHTMLCommon *').forEach(applyStyleToEditor);\n",
       "  };\n",
       "\n",
       "  // Watch for focus into editing Markdown cells\n",
       "  // document.addEventListener('focusin', (event) => {\n",
       "  //   const editor = event.target.closest('.jp-MarkdownCell .jp-InputArea-editor');\n",
       "  //    if (editor) applyStyleToEditor(editor);\n",
       "  // });\n",
       "\n",
       "  // Insert into top toolbar if not already present\n",
       "  var insertIntoToolbar = () => {\n",
       "    const toolbar = document.querySelector('.jp-NotebookPanel-toolbar');\n",
       "    if (toolbar && !document.getElementById(\"top-rtl-toggle\")) {\n",
       "      toolbar.appendChild(rtlButton);\n",
       "    } else {\n",
       "      // Try again in a moment if toolbar isn't ready yet\n",
       "      setTimeout(insertIntoToolbar, 300);\n",
       "    }\n",
       "  };\n",
       "\n",
       "  insertIntoToolbar();\n",
       "})();\n",
       "</script>\n"
      ],
      "text/plain": [
       "<IPython.core.display.HTML object>"
      ]
     },
     "metadata": {},
     "output_type": "display_data"
    }
   ],
   "source": [
    "%%html\n",
    "<!-- <style>\n",
    "  table {display: inline-block}\n",
    "</style> -->"
   ]
  },
  {
   "cell_type": "markdown",
   "id": "45dbdbcd",
   "metadata": {},
   "source": [
    "# שבוע 8 - Numpy מתקדם"
   ]
  },
  {
   "cell_type": "markdown",
   "id": "d706dd3b",
   "metadata": {},
   "source": [
    "\n",
    "שבוע זה ממשיך את הבסיס ממחברת NumPy קודמת, ומעמיקה בנושאים שימושיים לפיסיקה חישובית:\n",
    "- פעולות מטריציוניות: @, np.matmul, np.dot, transpose, ו-np.linalg.solve.\n",
    "- ערכים/וקטורים עצמיים: np.linalg.eig, np.linalg.eigvals, קשרים ל-trace ול-det; אינטואיציה פיסיקלית.\n",
    "- SVD (בלי הוכחות): np.linalg.svd ורעיון דחיסה/פירוק מצבים.\n",
    "- מחולל אקראי מודרני: np.random.default_rng, seed ושיחזור תוצאות; התפלגויות נפוצות ודגימה וקטורית.\n",
    "- דוגמא מסכמת: הערכת מונטה-קרלו של π ותנועת דיפוזיה בהליכת-אקראי 1D.\n",
    "- הערה: בחלק ה-SVD ניתן (אך לא חובה) להסתמך על הדגמה מהרפרנס של NumPy:\n",
    "https://numpy.org/numpy-tutorials/content/tutorial-svd.html"
   ]
  },
  {
   "cell_type": "markdown",
   "id": "2be13ab1",
   "metadata": {},
   "source": [
    "## ייבוא ספריות והגדרות ראשוניות\n",
    "\n",
    "נשתמש ב-NumPy וב-Matplotlib. נגדיר גם מחולל אקראי מודרני המאפשר שחזור של קוד על אף השימוש במספרים אקראיים (reproducibility).\n",
    "מחולל מספרים \"אקראיים\" במחשב הוא למעשה **פסאודו-אקראי**: הוא מייצר רצף דטרמיניסטי. קביעת **seed** מגדירה את המצב ההתחלתי ולכן מבטיחה יכולת שחזור מלאה של הניסוי:\n",
    "אותו seed ⇒ אותו רצף ⇒ אותם תוצאות. \n",
    "זה קריטי למחקר חישובי: דיבוג, בדיקות יחידה, ביקורות עמיתים, והפעלות חוזרות.\n",
    "\n",
    "במחברת זאת נשתמש ב`default_rng` ממספר סיבות:\n",
    "1. **בידוד מצב**:  `default_rng` יוצרת כל קריאה ל `Generator` ששומר מצב פנימי משלו. כך נמנע מיצירה של \"מצב גלובלי\" כמו ב-`np.random.seed`/`np.random.*` הישנים.\n",
    "2. **יציבות**: קוד המשתמש ב-`Generator` צפוי יותר לאורך גרסאות, וקל יותר לשלוט בו.\n",
    "3. **ממשק נקי**: פונקציות דגימה אחידות תחת `rng.*` (למשל `rng.normal`, `rng.poisson`, `rng.choice`).\n",
    "\n",
    "כיצד נקבע seed?\n",
    "- נקבע seed בראשית הקוד בפתיחה (למשל `seed=42`) כדי לאפשר רפליקציה.\n",
    "- נקפיד **לא** לעשות re-seed בלולאה או בכל קריאה ,זה מאתחל את אותו הרצף שוב ושוב (באג נפוץ).\n",
    "- העדיפו פונקציות שמקבלות `rng` כפרמטר — כך תכתבו קוד נקי מתלות גלובלית.\n"
   ]
  },
  {
   "cell_type": "code",
   "execution_count": 2,
   "id": "ce3920df",
   "metadata": {},
   "outputs": [
    {
     "data": {
      "text/plain": [
       "('2.3.2', 'RNG OK')"
      ]
     },
     "execution_count": 2,
     "metadata": {},
     "output_type": "execute_result"
    }
   ],
   "source": [
    "import numpy as np\n",
    "import matplotlib.pyplot as plt\n",
    "\n",
    "# Modern RNG (prefer over legacy np.random.*)\n",
    "rng = np.random.default_rng(seed=42)\n",
    "\n",
    "np.__version__, \"RNG OK\""
   ]
  },
  {
   "cell_type": "markdown",
   "id": "bca84663",
   "metadata": {},
   "source": [
    "## פעולות מטריציוניות\n",
    "### @ ו-np.matmul\n",
    "האופרטור @ שקול ל-np.matmul עבור מכפלות מטריציות. שניהם תומכים בבאצ'ינג (batch/broadcast) במימדים גבוהים.\n",
    "שימו לב כי גם האופרטור וגם הפונקציה **לא** מבצעים כפל איבר-איבר; לשם כך משתמשים ב-*.\n",
    "\n",
    "### np.dot\n",
    "עבור שני וקטורים – מחזיר מכפלה סקלרית.\n",
    "עבור מטריצות דו-ממדיות – שקול למכפלת מטריצות.\n",
    "במימדים גבוהים הכללים שונים מעט (כפל לאורך הצירים האחרונים) ולכן נעדיף @/matmul לקוד ברור.\n",
    "\n",
    "### transpose / .T\n",
    "טרנספוז של מטריצה 2D מחליף שורות בעמודות."
   ]
  },
  {
   "cell_type": "code",
   "execution_count": null,
   "id": "1cb713d7",
   "metadata": {},
   "outputs": [],
   "source": [
    "# Basic demo: @ vs dot\n",
    "A = np.array([[2., 1.],\n",
    "              [0., 3.]])\n",
    "B = np.array([[1., -1.],\n",
    "              [4.,  2.]])\n",
    "\n",
    "AB1 = A @ B            # matrix product via @\n",
    "AB2 = np.matmul(A, B)  # same\n",
    "AB3 = np.dot(A, B)     # same for 2D\n",
    "\n",
    "A_T = A.T\n",
    "B_T = B.T\n",
    "\n",
    "AB1, AB2, np.allclose(AB1, AB2), np.allclose(AB1, AB3), A_T, B_T\n",
    "\n"
   ]
  },
  {
   "cell_type": "markdown",
   "id": "4afb59a0",
   "metadata": {},
   "source": [
    "באצ'ינג (Batch) ו-Broadcasting במכפלות מטריציות"
   ]
  },
  {
   "cell_type": "code",
   "execution_count": null,
   "id": "9d61ae2b",
   "metadata": {},
   "outputs": [],
   "source": [
    "# Batched matrix-vector multiply: shape (batch, n, n) @ (n,)\n",
    "batch = 5\n",
    "M = rng.normal(size=(batch, 3, 3))\n",
    "v = rng.normal(size=3)\n",
    "\n",
    "# Broadcasting: each 3x3 in M multiplies the same vector v -> (batch, 3)\n",
    "Mv = M @ v\n",
    "\n",
    "# Batched matrix-matrix: (batch, n, n) @ (batch, n, n) -> (batch, n, n)\n",
    "N = rng.normal(size=(batch, 3, 3))\n",
    "MM = M @ N\n",
    "Mv.shape, MM.shape\n"
   ]
  },
  {
   "cell_type": "markdown",
   "id": "0f7552e5",
   "metadata": {},
   "source": [
    "## פתרון מערכות לינאריות: `np.linalg.solve`\n",
    "\n",
    "כאשר נדרש פתרון של מערכת לינארית מהצורה:\n",
    "\n",
    "\\[\n",
    "A \\, x = b,\n",
    "\\]\n",
    "\n",
    "יש שתי גישות עיקריות:\n",
    "1. לחשב את \\(A^{-1}\\) ואז להציב \\(x = A^{-1}b\\).\n",
    "2. להשתמש ישירות באלגוריתם נומרי ל-`solve`.\n",
    "\n",
    "### למה לא לחשב \\(A^{-1}\\)?\n",
    "* **חוסר יציבות נומרית**: חישוב מפורש של \\(A^{-1}\\) עלול להעצים שגיאות עיגול, במיוחד כאשר המטריצה קרובה לסינגולריות (ill-conditioned).\n",
    "* **יעילות**: מציאת הפתרון באמצעות `np.linalg.solve` משתמשת בפירוק LU (או שיטות דומות) המותאם ישירות לפתרון מערכת, מהיר יותר מחישוב מטריצה הפוכה מלאה.\n",
    "\n",
    "### דוגמה מתמטית\n",
    "נניח \\(A\\) בגודל \\(n\\times n\\).  \n",
    "- חישוב \\(A^{-1}\\) דורש \\(O(n^3)\\) פעולות, ואחר כך כפל מטריציוני \\(O(n^2)\\).\n",
    "- לעומת זאת, `np.linalg.solve` פותר את המערכת ב-\\(O(n^3)\\) **בלי** לייצר מטריצה הפוכה מיותרת.\n",
    "\n",
    "### הקשר פיסיקלי\n",
    "מערכות לינאריות \\(Ax=b\\) צצות בפיסיקה בכל מקום:\n",
    "* **מעגלים חשמליים**: לפי חוקי אוהם וקירכהוף, מקבלים מערכת משוואות לינאריות בזרמים/מתחים.\n",
    "* **מכניקה קלאסית**: מערכות של קפיצים/מסות קטנות עם חיבורים לינאריים → נדרשים הפתרונות לכוחות/תזוזות.\n",
    "* **אנליזת תגובה (response analysis)**: פתרון משוואות לינאריות לתגובה של מערכת בזמן/במרחב.\n",
    "* **חישוב התפתחות בזמן קצר**: למשל באינטגרציה נומרית של משוואות דיפרנציאליות — צעד אחד כולל פתרון לינארי.\n",
    "\n",
    "### מדד חשוב: מספר התניה (Condition Number)\n",
    "אם \\(\\kappa(A)\\) גדול, אז הפתרון רגיש מאוד לשגיאות קטנות ב-\\(b\\) או ב-\\(A\\).  \n",
    "בפועל ניתן לבדוק:\n",
    "\\[\n",
    "\\kappa(A) = \\|A\\| \\, \\|A^{-1}\\|,\n",
    "\\]\n",
    "עם `np.linalg.cond(A)`. ערכים גדולים מצביעים על בעיית יציבות.\n",
    "\n",
    "### כלל אצבע\n",
    "**אל תחשבו \\(A^{-1}\\)** אלא השתמשו ב-`np.linalg.solve`, ובדקו את ה-condition number אם אתם חושדים שמדובר במטריצה \"כמעט סינגולרית\".\n"
   ]
  },
  {
   "cell_type": "code",
   "execution_count": 3,
   "id": "c990f7f3",
   "metadata": {},
   "outputs": [
    {
     "data": {
      "text/plain": [
       "(array([2., 3.]), array([0., 0.]))"
      ]
     },
     "execution_count": 3,
     "metadata": {},
     "output_type": "execute_result"
    }
   ],
   "source": [
    "# Solve Ax = b (single RHS)\n",
    "A = np.array([[3., 1.],\n",
    "              [1., 2.]])\n",
    "b = np.array([9., 8.])\n",
    "\n",
    "x = np.linalg.solve(A, b)\n",
    "residual = A @ x - b\n",
    "x, residual\n"
   ]
  },
  {
   "cell_type": "code",
   "execution_count": null,
   "id": "7feacc98",
   "metadata": {},
   "outputs": [],
   "source": [
    "# Solve Ax = B (multiple RHS columns)\n",
    "B = np.column_stack([b, np.array([1., 0.])])  # two RHS vectors\n",
    "X = np.linalg.solve(A, B)\n",
    "np.allclose(A @ X, B), X\n"
   ]
  },
  {
   "cell_type": "code",
   "execution_count": null,
   "id": "4efe4a46",
   "metadata": {},
   "outputs": [],
   "source": [
    "# Conditioning matters: nearly singular matrix\n",
    "C = np.array([[1., 1.],\n",
    "              [1., 1.000001]])\n",
    "condC = np.linalg.cond(C)  # condition number\n",
    "d = np.array([2., 2.000001])\n",
    "sol = np.linalg.solve(C, d)\n",
    "condC, sol\n"
   ]
  },
  {
   "cell_type": "markdown",
   "id": "d1d1a11a",
   "metadata": {},
   "source": [
    "מתי להשתמש ב-lstsq? בבעיות least-squares (מערכת עודפת/חסרה), השתמשו ב-np.linalg.lstsq(A, b, rcond=None)."
   ]
  },
  {
   "cell_type": "code",
   "execution_count": null,
   "id": "5be6a7dd",
   "metadata": {},
   "outputs": [],
   "source": [
    "# Least-squares: fit y ≈ a + b x\n",
    "xdata = np.linspace(0, 1, 50)\n",
    "ytrue = 1.5 + 2.0*xdata\n",
    "yobs  = ytrue + rng.normal(scale=0.1, size=xdata.size)\n",
    "\n",
    "Phi = np.column_stack([np.ones_like(xdata), xdata])  # design matrix\n",
    "coef, *_ = np.linalg.lstsq(Phi, yobs, rcond=None)\n",
    "coef  # intercept ~1.5, slope ~2.0\n"
   ]
  },
  {
   "cell_type": "markdown",
   "id": "4d058900",
   "metadata": {},
   "source": [
    "ערכים עצמיים, וקטורים עצמיים, עקבה ודטרמיננטה\n",
    "\n",
    "למטריצה A מתקבלים ערכים עצמיים $\\lambda_i$ ווקטורים עצמיים $v_i$ כך ש- $A*v_i = \\lambda_i*v_i$\n",
    "בפיסיקה: אלו מצבים נורמליים במערכות לינאריות (לדוגמה, תנודות קטנות של מערכת מסוימת), כיווני יציבות/אי-יציבות, וצירי עיקריים בקירוב קוודרטי.\n",
    "\n",
    "np.linalg.eig(A) מחזירה (w, V) כאשר w – ערכים עצמיים, ו-V – וקטורים עצמיים בעמודות.\n",
    "\n",
    "np.linalg.eigvals(A) מחזירה רק ערכים עצמיים.\n",
    "\n",
    "עבור מטריצה סימטרית (הרמיטית ממשית), הערכים עצמיים ממשיים ווקטורים עצמיים אורתונורמליים.\n",
    "\n",
    "קשרים שימושיים:\n",
    "trace(A) = סכום הערכים העצמיים.\n",
    "det(A) = מכפלת הערכים העצמיים."
   ]
  },
  {
   "cell_type": "code",
   "execution_count": null,
   "id": "244714c6",
   "metadata": {},
   "outputs": [],
   "source": [
    "# Symmetric example: prefer eigh\n",
    "A = np.array([[4., 1., 0.],\n",
    "              [1., 3., 1.],\n",
    "              [0., 1., 2.]], dtype=float)\n",
    "\n",
    "w, V = np.linalg.eigh(A)     # sorted ascending\n",
    "trA = np.trace(A)\n",
    "detA = np.linalg.det(A)\n",
    "\n",
    "trace_vs_sum = trA, np.sum(w)\n",
    "det_vs_prod   = detA, np.prod(w)\n",
    "\n",
    "# Check orthonormality and reconstruction A ≈ V diag(w) V^T\n",
    "Icheck = V.T @ V\n",
    "Arec = V @ np.diag(w) @ V.T\n",
    "np.allclose(Icheck, np.eye(3)), np.allclose(Arec, A), trace_vs_sum, det_vs_prod\n"
   ]
  },
  {
   "cell_type": "code",
   "execution_count": null,
   "id": "1832d72b",
   "metadata": {},
   "outputs": [],
   "source": [
    "# Non-symmetric example: complex eigenvalues are possible\n",
    "B = np.array([[0., -1.],\n",
    "              [1.,  0.]])\n",
    "wB, VB = np.linalg.eig(B)\n",
    "wB, VB\n"
   ]
  },
  {
   "cell_type": "markdown",
   "id": "d816165e",
   "metadata": {},
   "source": [
    "אזכור: SVD – פירוק לערכים סינגולריים (ללא הוכחות)\n",
    "ה-SVD מפרק מטריצה  $A$ ל$U\\Sigma V^T$, כאשר $\\Sigma$ מכילה ערכים סינגולריים אי-שליליים מסודרים מהגדול לקטן. שימושים:\n",
    "\n",
    "דחיסת מידע/הפחתת מימד -\n",
    "\n",
    "ניתוח מצבים דומיננטיים -\n",
    "\n",
    "- least-squares יציב נומרית.\n",
    "\n",
    "להדגמה נבצע SVD על תמונה (או על מטריצה מלאכותית אם ספריות חיצוניות לא זמינות)."
   ]
  },
  {
   "cell_type": "code",
   "execution_count": null,
   "id": "4db5c913",
   "metadata": {},
   "outputs": [],
   "source": [
    "# Try loading a demo image; fall back to a synthetic image if SciPy is unavailable\n",
    "try:\n",
    "    from scipy.datasets import face  # SciPy >= 1.10\n",
    "    img = face()\n",
    "except Exception:\n",
    "    # Simple synthetic \"image\": gradient + circle\n",
    "    Y, X = np.ogrid[:256, :256]\n",
    "    circle = (np.hypot(X-128, Y-128) < 90).astype(float)\n",
    "    grad = (X / X.max())[None, :]\n",
    "    img_gray_syn = 0.6*grad + 0.4*circle\n",
    "    img = np.stack([img_gray_syn, img_gray_syn, img_gray_syn], axis=-1)\n",
    "\n",
    "# Convert to grayscale using standard luminance weights\n",
    "img = img.astype(float)\n",
    "img = img / (img.max() if img.max() > 1 else 255.0)\n",
    "img_gray = img @ np.array([0.2126, 0.7152, 0.0722])\n",
    "\n",
    "# SVD\n",
    "U, s, Vt = np.linalg.svd(img_gray, full_matrices=False)\n",
    "U.shape, s.shape, Vt.shape, float(s[0]), float(s[-1])\n"
   ]
  },
  {
   "cell_type": "code",
   "execution_count": null,
   "id": "9a534275",
   "metadata": {},
   "outputs": [],
   "source": [
    "# Low-rank approximation via top-k singular values\n",
    "k = 25  # play with k\n",
    "approx = (U[:, :k] * s[:k]) @ Vt[:k, :]\n",
    "\n",
    "plt.figure()\n",
    "plt.title(\"SVD approximation with k components\")\n",
    "plt.imshow(approx)\n",
    "plt.axis(\"off\")\n",
    "plt.show()\n",
    "\n",
    "# Energy captured by top-k singular values\n",
    "energy = np.cumsum(s**2) / np.sum(s**2)\n",
    "energy_k = energy[k-1]\n",
    "error_rel = np.linalg.norm(img_gray - approx) / np.linalg.norm(img_gray)\n",
    "energy_k, error_rel\n"
   ]
  },
  {
   "cell_type": "code",
   "execution_count": null,
   "id": "d98e8b06",
   "metadata": {},
   "outputs": [],
   "source": [
    "מחולל אקראי מודרני: np.random.default_rng\n",
    "\n",
    "לשימוש עדכני ומומלץ באקראיות:\n",
    "\n",
    "צור מחולל: rng = np.random.default_rng(seed) (סיד קבוע לשחזור).\n",
    "\n",
    "דגימות נפוצות: rng.uniform, rng.normal, rng.poisson, rng.binomial, rng.choice, ועוד.\n",
    "\n",
    "וקטוריזציה: דוגמים מערכים גדולים בבת אחת בלי לולאות פייתון."
   ]
  },
  {
   "cell_type": "code",
   "execution_count": null,
   "id": "9b25acbc",
   "metadata": {},
   "outputs": [],
   "source": [
    "# Reproducibility demo: same seed -> same stream\n",
    "rng1 = np.random.default_rng(123)\n",
    "rng2 = np.random.default_rng(123)\n",
    "np.allclose(rng1.normal(size=5), rng2.normal(size=5))\n"
   ]
  },
  {
   "cell_type": "code",
   "execution_count": null,
   "id": "3b8440ea",
   "metadata": {},
   "outputs": [],
   "source": [
    "# Basic distributions\n",
    "u = rng.uniform(size=10)                      # Uniform [0,1)\n",
    "z = rng.normal(loc=0.0, scale=1.0, size=10_000)  # Standard normal\n",
    "p = rng.poisson(lam=3.0, size=10_000)         # Poisson(λ=3)\n",
    "b = rng.binomial(n=10, p=0.3, size=10_000)    # Binomial\n",
    "u[:5], z.mean(), z.std(ddof=1), p.mean(), b.mean()\n"
   ]
  },
  {
   "cell_type": "code",
   "execution_count": null,
   "id": "ac0ae767",
   "metadata": {},
   "outputs": [],
   "source": [
    "# Multivariate normal (useful for correlated noise)\n",
    "mu = np.array([0.0, 0.0])\n",
    "Sigma = np.array([[1.0, 0.8],\n",
    "                  [0.8, 1.5]])\n",
    "X = rng.multivariate_normal(mu, Sigma, size=5_000)\n",
    "X.shape, np.mean(X, axis=0), np.cov(X.T)\n"
   ]
  },
  {
   "cell_type": "code",
   "execution_count": null,
   "id": "013004f9",
   "metadata": {},
   "outputs": [],
   "source": [
    "# Multivariate normal (useful for correlated noise)\n",
    "mu = np.array([0.0, 0.0])\n",
    "Sigma = np.array([[1.0, 0.8],\n",
    "                  [0.8, 1.5]])\n",
    "X = rng.multivariate_normal(mu, Sigma, size=5_000)\n",
    "X.shape, np.mean(X, axis=0), np.cov(X.T)\n"
   ]
  },
  {
   "cell_type": "code",
   "execution_count": null,
   "id": "e692fe91",
   "metadata": {},
   "outputs": [],
   "source": [
    "# Quick histograms (separate figures)\n",
    "plt.figure()\n",
    "plt.title(\"Normal(0,1) – empirical\")\n",
    "plt.hist(z, bins=50, density=True)\n",
    "plt.xlabel(\"x\"); plt.ylabel(\"density\")\n",
    "plt.show()\n",
    "\n",
    "plt.figure()\n",
    "plt.title(\"Poisson(λ=3) – empirical\")\n",
    "plt.hist(p, bins=np.arange(p.min(), p.max()+1)-0.5, density=True)\n",
    "plt.xlabel(\"k\"); plt.ylabel(\"probability\")\n",
    "plt.show()\n"
   ]
  },
  {
   "cell_type": "markdown",
   "id": "c3d01284",
   "metadata": {},
   "source": [
    "תהליך פואסוני – זמני הגעה (Exponential interarrivals)"
   ]
  },
  {
   "cell_type": "code",
   "execution_count": null,
   "id": "fd18f5f2",
   "metadata": {},
   "outputs": [],
   "source": [
    "# Poisson process via exponential interarrival times\n",
    "lam = 2.0  # events per unit time\n",
    "n_events = 2000\n",
    "inter = rng.exponential(scale=1/lam, size=n_events)  # mean 1/λ\n",
    "times = np.cumsum(inter)\n",
    "times[:5], inter.mean()\n"
   ]
  },
  {
   "cell_type": "code",
   "execution_count": null,
   "id": "41401518",
   "metadata": {},
   "outputs": [],
   "source": [
    "# Histogram of interarrival times ~ Exponential(λ)\n",
    "plt.figure()\n",
    "plt.title(\"Poisson process interarrival times\")\n",
    "plt.hist(inter, bins=50, density=True)\n",
    "plt.xlabel(\"Δt\"); plt.ylabel(\"density\")\n",
    "plt.show()\n"
   ]
  },
  {
   "cell_type": "markdown",
   "id": "7552c417",
   "metadata": {},
   "source": [
    "## דוגמה מסכמת (1): הערכת מונטה–קרלו של π\n",
    "\n",
    "הרעיון: לדגום \\(N\\) נקודות אחידות בריבוע \\([-1,1]\\times[-1,1]\\),  \n",
    "ולחשב את החלק מהן שנמצא בתוך מעגל היחידה.  \n",
    "\n",
    "\\[\n",
    "\\hat{\\pi} \\;=\\; 4 \\cdot \\frac{\\#\\{(x,y): x^2+y^2 \\le 1\\}}{N}.\n",
    "\\]\n",
    "\n",
    "בפועל נשתמש במחולל אקראי מודרני ונראה שהשגיאה יורדת בקצב סדר גודל של \\(1/\\sqrt{N}\\).\n"
   ]
  },
  {
   "cell_type": "code",
   "execution_count": 2,
   "id": "300e61f1",
   "metadata": {},
   "outputs": [
    {
     "ename": "NameError",
     "evalue": "name 'np' is not defined",
     "output_type": "error",
     "traceback": [
      "\u001b[31m---------------------------------------------------------------------------\u001b[39m",
      "\u001b[31mNameError\u001b[39m                                 Traceback (most recent call last)",
      "\u001b[36mCell\u001b[39m\u001b[36m \u001b[39m\u001b[32mIn[2]\u001b[39m\u001b[32m, line 8\u001b[39m\n\u001b[32m      5\u001b[39m     inside = (xy[:,\u001b[32m0\u001b[39m]**\u001b[32m2\u001b[39m + xy[:,\u001b[32m1\u001b[39m]**\u001b[32m2\u001b[39m) <= \u001b[32m1.0\u001b[39m\n\u001b[32m      6\u001b[39m     \u001b[38;5;28;01mreturn\u001b[39;00m \u001b[32m4.0\u001b[39m * inside.mean()\n\u001b[32m----> \u001b[39m\u001b[32m8\u001b[39m Ns = \u001b[43mnp\u001b[49m.logspace(\u001b[32m2\u001b[39m, \u001b[32m6\u001b[39m, num=\u001b[32m9\u001b[39m, base=\u001b[32m10\u001b[39m, dtype=\u001b[38;5;28mint\u001b[39m)\n\u001b[32m      9\u001b[39m est = np.array([mc_pi(\u001b[38;5;28mint\u001b[39m(N), seed=\u001b[32m123\u001b[39m) \u001b[38;5;28;01mfor\u001b[39;00m N \u001b[38;5;129;01min\u001b[39;00m Ns])\n\u001b[32m     10\u001b[39m abs_err = np.abs(est - np.pi)\n",
      "\u001b[31mNameError\u001b[39m: name 'np' is not defined"
     ]
    }
   ],
   "source": [
    "def mc_pi(N, seed=None):\n",
    "    # Monte-Carlo estimate of pi using hit/miss in unit disk\n",
    "    r = np.random.default_rng(seed)\n",
    "    xy = r.uniform(-1.0, 1.0, size=(N, 2))\n",
    "    inside = (xy[:,0]**2 + xy[:,1]**2) <= 1.0\n",
    "    return 4.0 * inside.mean()\n",
    "\n",
    "Ns = np.logspace(2, 6, num=9, base=10, dtype=int)\n",
    "est = np.array([mc_pi(int(N), seed=123) for N in Ns])\n",
    "abs_err = np.abs(est - np.pi)\n",
    "\n",
    "Ns, est[:5], abs_err[:5]\n"
   ]
  },
  {
   "cell_type": "code",
   "execution_count": null,
   "id": "43cf7058",
   "metadata": {},
   "outputs": [],
   "source": [
    "plt.figure()\n",
    "plt.title(\"π estimate vs N (log scale)\")\n",
    "plt.plot(Ns, est, marker='o', label=\"estimate\")\n",
    "plt.axhline(np.pi, linestyle='--', label=\"π (true)\")\n",
    "plt.xscale('log')\n",
    "plt.xlabel(\"N\")\n",
    "plt.ylabel(\"estimate\")\n",
    "plt.legend()\n",
    "plt.show()\n",
    "\n",
    "plt.figure()\n",
    "plt.title(\"|error| vs N (expected ~ 1/√N)\")\n",
    "plt.loglog(Ns, abs_err, marker='o')\n",
    "plt.xlabel(\"N\")\n",
    "plt.ylabel(\"|error|\")\n",
    "plt.show()\n"
   ]
  },
  {
   "cell_type": "markdown",
   "id": "511a54da",
   "metadata": {},
   "source": [
    "## דוגמה מסכמת (2): דיפוזיה בהליכת-אקראי 1D\n",
    "\n",
    "נבצע \\(M\\) הליכות אקראיות באורך \\(T\\) צעדים.  \n",
    "בכל צעד מתקיים:\n",
    "\\[\n",
    "x_{t+1} \\;=\\; x_t + \\xi_t, \\qquad \\xi_t \\in \\{-1, +1\\}, \\quad P(\\xi_t=+1)=P(\\xi_t=-1)=\\tfrac{1}{2}.\n",
    "\\]\n",
    "\n",
    "בממוצע אנליטי מתקבל:\n",
    "\\[\n",
    "\\mathrm{MSD}(t) = \\mathbb{E}[\\,x_t^2\\,] \\;\\propto\\; t.\n",
    "\\]\n",
    "\n",
    "נראה זאת נומרית, וכן נבדוק את התפלגות נקודת הסיום לאחר \\(T\\) צעדים — הצפויה להתקרב להתפלגות נורמלית לפי משפט הגבול המרכזי.\n"
   ]
  },
  {
   "cell_type": "code",
   "execution_count": null,
   "id": "0d117c93",
   "metadata": {},
   "outputs": [],
   "source": [
    "def random_walk_1d(T, M, seed=None):\n",
    "    # Vectorized ±1 steps and cumulative sums\n",
    "    r = np.random.default_rng(seed)\n",
    "    steps = r.choice([-1, 1], size=(M, T))\n",
    "    x = np.cumsum(steps, axis=1)\n",
    "    return x\n",
    "\n",
    "T = 1000\n",
    "M = 10_000\n",
    "X = random_walk_1d(T=T, M=M, seed=123)\n",
    "\n",
    "# Mean-squared displacement over time\n",
    "msd = (X**2).mean(axis=0)\n",
    "\n",
    "T, M, msd[:5]\n"
   ]
  },
  {
   "cell_type": "code",
   "execution_count": null,
   "id": "9a9c1f6e",
   "metadata": {},
   "outputs": [],
   "source": [
    "# MSD ~ t (linear scaling)\n",
    "t = np.arange(1, T+1)\n",
    "\n",
    "plt.figure()\n",
    "plt.title(\"1D Random Walk – MSD(t) ~ t\")\n",
    "plt.plot(t, msd, label=\"MSD (empirical)\")\n",
    "# Linear guide normalized to the last point\n",
    "guide = msd[-1] * (t / t[-1])\n",
    "plt.plot(t, guide, linestyle='--', label=\"~linear guide\")\n",
    "plt.xlabel(\"t\")\n",
    "plt.ylabel(\"MSD\")\n",
    "plt.legend()\n",
    "plt.show()\n"
   ]
  },
  {
   "cell_type": "markdown",
   "id": "30183387",
   "metadata": {},
   "source": [
    "התפלגות נקודת הסיום וה-CLT (התכנסות לנורמלית)"
   ]
  },
  {
   "cell_type": "code",
   "execution_count": null,
   "id": "62730b5b",
   "metadata": {},
   "outputs": [],
   "source": [
    "# Endpoint distribution after T steps should be ~ Normal(0, T)\n",
    "endpoints = X[:, -1]\n",
    "mu_hat, var_hat = endpoints.mean(), endpoints.var(ddof=1)\n",
    "\n",
    "plt.figure()\n",
    "plt.title(\"Endpoints histogram ~ N(0, T)\")\n",
    "plt.hist(endpoints, bins=60, density=True)\n",
    "plt.xlabel(\"x_T\"); plt.ylabel(\"density\")\n",
    "plt.show()\n",
    "\n",
    "mu_hat, var_hat, \"theory var ~ T =\", T\n"
   ]
  }
 ],
 "metadata": {
  "celltoolbar": "Slideshow",
  "kernelspec": {
   "display_name": "Python 3",
   "language": "python",
   "name": "python3"
  },
  "language_info": {
   "codemirror_mode": {
    "name": "ipython",
    "version": 3
   },
   "file_extension": ".py",
   "mimetype": "text/x-python",
   "name": "python",
   "nbconvert_exporter": "python",
   "pygments_lexer": "ipython3",
   "version": "3.12.1"
  }
 },
 "nbformat": 4,
 "nbformat_minor": 5
}
