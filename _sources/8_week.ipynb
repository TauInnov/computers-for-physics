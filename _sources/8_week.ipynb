{
 "cells": [
  {
   "cell_type": "code",
   "execution_count": null,
   "id": "7e548e8d-cb63-4291-855a-e784ac8f74c5",
   "metadata": {
    "slideshow": {
     "slide_type": "skip"
    },
    "tags": [
     "remove-cell"
    ]
   },
   "outputs": [
    {
     "data": {
      "text/html": [
       "<!-- RTL Fix the jupyter notebook 7  -->\n",
       "<style>\n",
       "    .jp-RenderedHTMLCommon {\n",
       "        padding-top: 2em !important;\n",
       "  }   \n",
       "    .jp-RenderedHTMLCommon, .jp-RenderedHTMLCommon * {\n",
       "        direction: rtl !important;\n",
       "        text-align:right !important;\n",
       "  }\n",
       "    .jp-MarkdownCell .jp-InputArea-editor {\n",
       "        direction: rtl !important; \n",
       "        text-align:right !important;\n",
       "        padding-top: 2em !important;\n",
       "  } \n",
       "\n",
       " .jp-RenderedHTMLCommon code, .jp-RenderedHTMLCommon code span {\n",
       "        text-align:left !important;\n",
       "        direction: ltr !important;\n",
       "        unicode-bidi: embed !important;\n",
       "\n",
       "    }\n",
       "    .jp-RenderedHTMLCommon pre:has(code) {\n",
       "      direction: ltr !important;\n",
       "      text-align: left!important;\n",
       "    }\n",
       "\n",
       "</style> \n"
      ],
      "text/plain": [
       "<IPython.core.display.HTML object>"
      ]
     },
     "metadata": {},
     "output_type": "display_data"
    }
   ],
   "source": [
    "%%html\n",
    "<script>\n",
    "(function() {\n",
    "  // Create the toggle button\n",
    "  const rtlButton = document.createElement(\"button\");\n",
    "  rtlButton.textContent = \"Toggle LTR\";\n",
    "  rtlButton.id = \"top-rtl-toggle\";\n",
    "  rtlButton.style.marginLeft = \"8px\";\n",
    "  rtlButton.style.padding = \"4px 10px\";\n",
    "  rtlButton.style.fontSize = \"14px\";\n",
    "  rtlButton.style.cursor = \"pointer\";\n",
    "\n",
    "  // State\n",
    "  var rtlActive = false;\n",
    "\n",
    "  // Styling function\n",
    "  var applyStyleToEditor = (editor) => {\n",
    "    if (!editor) return;\n",
    "    var direction = getComputedStyle(editor).getPropertyValue('direction')=='rtl' ? 'ltr' : 'rtl';\n",
    "    var text_align = getComputedStyle(editor).getPropertyValue('text-align')=='right' ? 'left' : 'right';\n",
    "    editor.style.setProperty('direction', direction, 'important');\n",
    "    editor.style.setProperty('text-align', text_align, 'important');\n",
    "  };\n",
    "\n",
    "  // Toggle logic\n",
    "  rtlButton.onclick = () => {\n",
    "    rtlActive = !rtlActive;\n",
    "    rtlButton.textContent = rtlActive ? \"Toggle LTR\" : \"Toggle RTL\";\n",
    "    document.querySelectorAll('.jp-MarkdownCell .jp-InputArea-editor').forEach(applyStyleToEditor);\n",
    "    document.querySelectorAll('.jp-RenderedHTMLCommon code, .jp-RenderedHTMLCommon code span').forEach(applyStyleToEditor);\n",
    "    document.querySelectorAll('jp-RenderedHTMLCommon, .jp-RenderedHTMLCommon *').forEach(applyStyleToEditor);\n",
    "  };\n",
    "\n",
    "  // Watch for focus into editing Markdown cells\n",
    "  // document.addEventListener('focusin', (event) => {\n",
    "  //   const editor = event.target.closest('.jp-MarkdownCell .jp-InputArea-editor');\n",
    "  //    if (editor) applyStyleToEditor(editor);\n",
    "  // });\n",
    "\n",
    "  // Insert into top toolbar if not already present\n",
    "  var insertIntoToolbar = () => {\n",
    "    const toolbar = document.querySelector('.jp-NotebookPanel-toolbar');\n",
    "    if (toolbar && !document.getElementById(\"top-rtl-toggle\")) {\n",
    "      toolbar.appendChild(rtlButton);\n",
    "    } else {\n",
    "      // Try again in a moment if toolbar isn't ready yet\n",
    "      setTimeout(insertIntoToolbar, 300);\n",
    "    }\n",
    "  };\n",
    "\n",
    "  insertIntoToolbar();\n",
    "})();\n",
    "</script>"
   ]
  },
  {
   "cell_type": "code",
   "execution_count": null,
   "id": "2f2d03fd-729e-439a-9ab0-de58c598e9ca",
   "metadata": {
    "tags": [
     "remove-cell"
    ]
   },
   "outputs": [
    {
     "data": {
      "text/html": [
       "<script>\n",
       "(function() {\n",
       "  // Create the toggle button\n",
       "  const rtlButton = document.createElement(\"button\");\n",
       "  rtlButton.textContent = \"Toggle LTR\";\n",
       "  rtlButton.id = \"top-rtl-toggle\";\n",
       "  rtlButton.style.marginLeft = \"8px\";\n",
       "  rtlButton.style.padding = \"4px 10px\";\n",
       "  rtlButton.style.fontSize = \"14px\";\n",
       "  rtlButton.style.cursor = \"pointer\";\n",
       "\n",
       "  // State\n",
       "  var rtlActive = false;\n",
       "\n",
       "  // Styling function\n",
       "  var applyStyleToEditor = (editor) => {\n",
       "    if (!editor) return;\n",
       "    var direction = getComputedStyle(editor).getPropertyValue('direction')=='rtl' ? 'ltr' : 'rtl';\n",
       "    var text_align = getComputedStyle(editor).getPropertyValue('text-align')=='right' ? 'left' : 'right';\n",
       "    editor.style.setProperty('direction', direction, 'important');\n",
       "    editor.style.setProperty('text-align', text_align, 'important');\n",
       "  };\n",
       "\n",
       "  // Toggle logic\n",
       "  rtlButton.onclick = () => {\n",
       "    rtlActive = !rtlActive;\n",
       "    rtlButton.textContent = rtlActive ? \"Toggle LTR\" : \"Toggle RTL\";\n",
       "    document.querySelectorAll('.jp-MarkdownCell .jp-InputArea-editor').forEach(applyStyleToEditor);\n",
       "    document.querySelectorAll('.jp-RenderedHTMLCommon code, .jp-RenderedHTMLCommon code span').forEach(applyStyleToEditor);\n",
       "    document.querySelectorAll('jp-RenderedHTMLCommon, .jp-RenderedHTMLCommon *').forEach(applyStyleToEditor);\n",
       "  };\n",
       "\n",
       "  // Watch for focus into editing Markdown cells\n",
       "  // document.addEventListener('focusin', (event) => {\n",
       "  //   const editor = event.target.closest('.jp-MarkdownCell .jp-InputArea-editor');\n",
       "  //    if (editor) applyStyleToEditor(editor);\n",
       "  // });\n",
       "\n",
       "  // Insert into top toolbar if not already present\n",
       "  var insertIntoToolbar = () => {\n",
       "    const toolbar = document.querySelector('.jp-NotebookPanel-toolbar');\n",
       "    if (toolbar && !document.getElementById(\"top-rtl-toggle\")) {\n",
       "      toolbar.appendChild(rtlButton);\n",
       "    } else {\n",
       "      // Try again in a moment if toolbar isn't ready yet\n",
       "      setTimeout(insertIntoToolbar, 300);\n",
       "    }\n",
       "  };\n",
       "\n",
       "  insertIntoToolbar();\n",
       "})();\n",
       "</script>\n"
      ],
      "text/plain": [
       "<IPython.core.display.HTML object>"
      ]
     },
     "metadata": {},
     "output_type": "display_data"
    }
   ],
   "source": [
    "%%html\n",
    "<!-- <style>\n",
    "  table {display: inline-block}\n",
    "</style> -->"
   ]
  },
  {
   "cell_type": "markdown",
   "id": "45dbdbcd",
   "metadata": {},
   "source": [
    "# שבוע 8 - Numpy מתקדם"
   ]
  },
  {
   "cell_type": "markdown",
   "id": "d706dd3b",
   "metadata": {},
   "source": [
    "\n",
    "שבוע זה ממשיך את הבסיס ממחברת NumPy קודמת, ומעמיקה בנושאים שימושיים לפיסיקה חישובית:\n",
    "- פעולות מטריציוניות: @, np.matmul, np.dot, transpose, ו-np.linalg.solve.\n",
    "- ערכים/וקטורים עצמיים: np.linalg.eig, np.linalg.eigvals, קשרים ל-trace ול-det; אינטואיציה פיסיקלית.\n",
    "- SVD (בלי הוכחות): np.linalg.svd ורעיון דחיסה/פירוק מצבים.\n",
    "- מחולל אקראי מודרני: np.random.default_rng, seed ושיחזור תוצאות; התפלגויות נפוצות ודגימה וקטורית.\n",
    "- דוגמא מסכמת: הערכת מונטה-קרלו של π ותנועת דיפוזיה בהליכת-אקראי 1D.\n",
    "- הערה: בחלק ה-SVD ניתן (אך לא חובה) להסתמך על הדגמה מהרפרנס של NumPy:\n",
    "https://numpy.org/numpy-tutorials/content/tutorial-svd.html"
   ]
  },
  {
   "cell_type": "markdown",
   "id": "2be13ab1",
   "metadata": {},
   "source": [
    "## ייבוא ספריות והגדרות ראשוניות\n",
    "\n",
    "נשתמש ב-NumPy וב-Matplotlib. נגדיר גם מחולל אקראי מודרני המאפשר שחזור של קוד על אף השימוש במספרים אקראיים (reproducibility).\n",
    "מחולל מספרים \"אקראיים\" במחשב הוא למעשה **פסאודו-אקראי**: הוא מייצר רצף דטרמיניסטי. קביעת **seed** מגדירה את המצב ההתחלתי ולכן מבטיחה יכולת שחזור מלאה של הניסוי:\n",
    "אותו seed ⇒ אותו רצף ⇒ אותם תוצאות. \n",
    "זה קריטי למחקר חישובי: דיבוג, בדיקות יחידה, ביקורות עמיתים, והפעלות חוזרות.\n",
    "\n",
    "במחברת זאת נשתמש ב`default_rng` ממספר סיבות:\n",
    "1. **בידוד מצב**:  `default_rng` יוצרת כל קריאה ל `Generator` ששומר מצב פנימי משלו. כך נמנע מיצירה של \"מצב גלובלי\" כמו ב-`np.random.seed`/`np.random.*` הישנים.\n",
    "2. **יציבות**: קוד המשתמש ב-`Generator` צפוי יותר לאורך גרסאות, וקל יותר לשלוט בו.\n",
    "3. **ממשק נקי**: פונקציות דגימה אחידות תחת `rng.*` (למשל `rng.normal`, `rng.poisson`, `rng.choice`).\n",
    "\n",
    "כיצד נקבע seed?\n",
    "- נקבע seed בראשית הקוד בפתיחה (למשל `seed=42`) כדי לאפשר רפליקציה.\n",
    "- נקפיד **לא** לעשות re-seed בלולאה או בכל קריאה ,זה מאתחל את אותו הרצף שוב ושוב (באג נפוץ).\n",
    "- העדיפו פונקציות שמקבלות `rng` כפרמטר — כך תכתבו קוד נקי מתלות גלובלית.\n"
   ]
  },
  {
   "cell_type": "code",
   "execution_count": 1,
   "id": "ce3920df",
   "metadata": {},
   "outputs": [
    {
     "data": {
      "text/plain": [
       "('2.3.2', 'RNG OK')"
      ]
     },
     "execution_count": 1,
     "metadata": {},
     "output_type": "execute_result"
    }
   ],
   "source": [
    "import numpy as np\n",
    "import matplotlib.pyplot as plt\n",
    "\n",
    "# Modern RNG (prefer over legacy np.random.*)\n",
    "rng = np.random.default_rng(seed=42)\n",
    "\n",
    "np.__version__, \"RNG OK\""
   ]
  },
  {
   "cell_type": "markdown",
   "id": "bca84663",
   "metadata": {},
   "source": [
    "## פעולות מטריציוניות\n",
    "### @ ו-np.matmul\n",
    "האופרטור @ שקול ל-np.matmul עבור מכפלות מטריציות. שניהם תומכים בבאצ'ינג (batch/broadcast) במימדים גבוהים.\n",
    "שימו לב כי גם האופרטור וגם הפונקציה **לא** מבצעים כפל איבר-איבר; לשם כך משתמשים ב-*.\n",
    "\n",
    "### np.dot\n",
    "עבור שני וקטורים – מחזיר מכפלה סקלרית.\n",
    "עבור מטריצות דו-ממדיות – שקול למכפלת מטריצות.\n",
    "במימדים גבוהים הכללים שונים מעט (כפל לאורך הצירים האחרונים) ולכן נעדיף @/matmul לקוד ברור.\n",
    "\n",
    "![Alt text](figs/0N7TO.png)\n",
    "\n"
   ]
  },
  {
   "cell_type": "markdown",
   "id": "58ca8ae2",
   "metadata": {},
   "source": [
    "נדגים עבור שתי מטריצות ממימד 2:"
   ]
  },
  {
   "cell_type": "code",
   "execution_count": 2,
   "id": "d57aa034",
   "metadata": {},
   "outputs": [
    {
     "name": "stdout",
     "output_type": "stream",
     "text": [
      "AB1:\n",
      "[[ 6.  0.]\n",
      " [12.  6.]]\n",
      "AB2:\n",
      "[[ 6.  0.]\n",
      " [12.  6.]]\n",
      "AB3:\n",
      "[[ 6.  0.]\n",
      " [12.  6.]]\n"
     ]
    }
   ],
   "source": [
    "A = np.array([[2., 1.],\n",
    "              [0., 3.]])\n",
    "B = np.array([[1., -1.],\n",
    "              [4.,  2.]])\n",
    "\n",
    "AB1 = A @ B            # matrix product via @\n",
    "AB2 = np.matmul(A, B)  # same\n",
    "AB3 = np.dot(A, B)     # same for 2D\n",
    "print(\"AB1:\")\n",
    "print(AB1)\n",
    "print(\"AB2:\")\n",
    "print(AB2)\n",
    "print(\"AB3:\")\n",
    "print(AB3)\n"
   ]
  },
  {
   "cell_type": "markdown",
   "id": "e9cfb2c3",
   "metadata": {},
   "source": [
    "### transpose / .T\n",
    "טרנספוז של מטריצה 2D מחליף שורות בעמודות.\n",
    "![Alt text](https://datascienceparichay.com/wp-content/uploads/2021/07/transpose-a-numpy-array.png)"
   ]
  },
  {
   "cell_type": "code",
   "execution_count": null,
   "id": "1cb713d7",
   "metadata": {},
   "outputs": [],
   "source": [
    "A_T = A.T\n",
    "B_T = B.T\n",
    "\n",
    "AB1, AB2, np.allclose(AB1, AB2), np.allclose(AB1, AB3), A_T, B_T\n",
    "\n",
    "\n"
   ]
  },
  {
   "cell_type": "markdown",
   "id": "936bb4c4",
   "metadata": {},
   "source": [
    "### Transpose למימדים גבוהים יותר\n",
    "במערכים בעלי יותר משני ממדים (tensors), `transpose` מחליפה **סדר צירים** כללי.  \n",
    "ברירת המחדל היא היפוך של סדר הצירים (axis reversal), אבל ניתן לשלוט בסדר הרצוי דרך ארגומנט `axes`.\n",
    "\n",
    "- לדוגמה: מערך 3D בגודל `(time, x, y)` יתקבל ממנו `(y, x, time)` אם נעשה `np.transpose(A)`.  \n",
    "- שימושי במיוחד במעבר בין תיאורים שונים של נתונים (למשל, בין **row-major** ל-**column-major**, או סידור ערוצים בנתוני תמונה).\n",
    "\n",
    "נמחיש זאת בדוגמא הבאה:"
   ]
  },
  {
   "cell_type": "code",
   "execution_count": null,
   "id": "8d27deb2",
   "metadata": {},
   "outputs": [
    {
     "data": {
      "text/plain": [
       "((2, 2, 3), (3, 2, 2))"
      ]
     },
     "execution_count": 3,
     "metadata": {},
     "output_type": "execute_result"
    }
   ],
   "source": [
    "# 3D tensor of shape (2, 2, 3)\n",
    "T = np.arange(12).reshape(2, 2, 3)\n",
    "\n",
    "T_default = np.transpose(T)           # reverses axes -> shape (3, 2, 2)\n",
    "\n",
    "T.shape, T_default.shape"
   ]
  },
  {
   "cell_type": "markdown",
   "id": "88770c30",
   "metadata": {},
   "source": [
    "![Alt text](https://ajcr.net/images/stride-guide/3d_array_c_transpose.png)\n"
   ]
  },
  {
   "cell_type": "markdown",
   "id": "fb652f44",
   "metadata": {},
   "source": [
    "כמוכן, ניתן לסמן צירים ולבחור את הסדר המתקבל:"
   ]
  },
  {
   "cell_type": "code",
   "execution_count": null,
   "id": "dd68ee08",
   "metadata": {},
   "outputs": [],
   "source": [
    "# 3D tensor of shape (2, 3, 4)\n",
    "T = np.arange(24).reshape(2, 3, 4)\n",
    "\n",
    "T_default = np.transpose(T)           # reverses axes -> shape (4, 3, 2)\n",
    "T_custom  = np.transpose(T, axes=(1, 0, 2))  # custom order -> shape (3, 2, 4)\n",
    "\n",
    "T.shape, T_default.shape, T_custom.shape"
   ]
  },
  {
   "cell_type": "markdown",
   "id": "4afb59a0",
   "metadata": {},
   "source": [
    "### פעולות מטריציוניות עם Batch ו־Broadcasting\n",
    "\n",
    "ב־NumPy ניתן לבצע מכפלות מטריציוניות לא רק בין מטריצות בודדות, אלא גם בין *אוספים* של מטריצות \n",
    "(batch) בצורה וקטורית.\n",
    "\n",
    "נראה שתי דוגמאות:\n",
    "1. **מכפלת מטריצה–וקטור עבור batch של מטריצות**:  \n",
    "   כל מטריצה ב־batch מוכפלת באותו וקטור.\n",
    "2. **מכפלת מטריצה–מטריצה עבור batch של מטריצות**:  \n",
    "   כל זוג מטריצות תואם ב־batch מוכפל אחת בשנייה."
   ]
  },
  {
   "cell_type": "code",
   "execution_count": null,
   "id": "9d61ae2b",
   "metadata": {},
   "outputs": [],
   "source": [
    "# Batched matrix-vector multiply: shape (batch, n, n) @ (n,)\n",
    "batch = 5\n",
    "M = rng.normal(size=(batch, 3, 3))\n",
    "v = rng.normal(size=3)\n",
    "\n",
    "# Broadcasting: each 3x3 in M multiplies the same vector v -> (batch, 3)\n",
    "Mv = M @ v"
   ]
  },
  {
   "cell_type": "markdown",
   "id": "1b27809f",
   "metadata": {},
   "source": [
    "במקרה זה התקבלה תוצאה במימדים `(batch, 3)`, כלומר 5 וקטורים שונים באורך 3 —\n",
    "כל אחד תוצאה של כפל מטריצה מה־batch עם אותו וקטור $v$."
   ]
  },
  {
   "cell_type": "code",
   "execution_count": null,
   "id": "49d04243",
   "metadata": {},
   "outputs": [],
   "source": [
    "N = rng.normal(size=(batch, 3, 3))  # another batch of 5 random 3x3 matrices\n",
    "\n",
    "# Batched matrix-matrix: (batch, n, n) @ (batch, n, n) -> (batch, n, n)\n",
    "MM = M @ N\n",
    "MM.shape"
   ]
  },
  {
   "cell_type": "markdown",
   "id": "a729b006",
   "metadata": {},
   "source": [
    "כאן התוצאה במימדים `(batch, 3, 3)` — כלומר 5 מטריצות חדשות, שכל אחת מהן תוצאה \n",
    "של כפל זוג המטריצות המתאים מתוך $M$ ו־$N$."
   ]
  },
  {
   "cell_type": "markdown",
   "id": "0f7552e5",
   "metadata": {},
   "source": [
    "## פתרון מערכות לינאריות: `np.linalg.solve`\n",
    "\n",
    "נניח שיש לנו מערכת של משוואות לינאריות (כלומר משוואות שבהן המשתנים מופיעים בחזקה ראשונה בלבד), לדוגמה:\n",
    "\n",
    "$$\n",
    "\\begin{cases}\n",
    "2x + y = 5 \\\\\n",
    "x - y = 1\n",
    "\\end{cases}\n",
    "$$\n",
    "\n",
    "אפשר לכתוב זאת בצורה מטריציונית קומפקטית:\n",
    "\n",
    "$$\n",
    "A x = b\n",
    "$$\n",
    "\n",
    "כאשר:\n",
    "* $A$ היא מטריצה שמכילה את המקדמים של המשוואות,\n",
    "* $x$ הוא וקטור המשתנים הבלתי ידועים,\n",
    "* $b$ הוא וקטור התוצאות (האגפים הימניים).\n",
    "\n",
    "\n",
    "### שתי דרכים לפתרון\n",
    "1. לחשב במפורש את $A^{-1}$ (המטריצה ההפוכה של $A$), ואז להציב:\n",
    "   $$\n",
    "   x = A^{-1} b\n",
    "   $$\n",
    "2. להשתמש ישירות באלגוריתם נומרי שמחשב את $x$ בלי למצוא את $A^{-1}$:\n",
    "   $$\n",
    "   x = \\texttt{np.linalg.solve}(A, b)\n",
    "   $$\n",
    "\n",
    "\n",
    "### מדוע לא נחשב את $A^{-1}$ ישירות?\n",
    "* **חוסר יציבות נומרית**: מחשב עובד עם ספרות מוגבלות (למשל 16 ספרות עשרוניות). \n",
    "  חישוב המטריצה ההפוכה עלול להגדיל שגיאות קטנות במספרים, במיוחד אם $A$ קרובה להיות לא הפיכה (סינגולרית).\n",
    "* **יעילות**: לחשב מטריצה הפוכה זה ארוך ומיותר אם כל מה שאנחנו רוצים זה לפתור את המערכת. \n",
    "  `np.linalg.solve` משתמש בשיטות ישירות (כמו פירוק LU) שמגיעות לפתרון מהר יותר ובצורה מדויקת יותר.\n",
    "\n",
    "\n",
    "### סיבוכיות (קצת מתמטיקה)\n",
    "* אם $A$ בגודל $n \\times n$, חישוב $A^{-1}$ דורש בערך $\\mathcal{O}(n^3)$ פעולות, \n",
    "  ואז צריך גם להכפיל אותה ב־$b$ שזה $\\mathcal{O}(n^2)$ נוספות.\n",
    "* לעומת זאת, `np.linalg.solve` פותר את המערכת ישירות עם $\\mathcal{O}(n^3)$ פעולות, **בלי** לעשות את הצעד המיותר של חישוב $A^{-1}$.\n",
    "\n",
    "\n",
    "### דוגמאות פיסיקליות\n",
    "מערכות לינאריות מופיעות כמעט בכל תחום בפיסיקה:\n",
    "\n",
    "* **מעגלים חשמליים**: לפי חוקי אוהם וקירכהוף נוצרת מערכת משוואות לינאריות למציאת מתחים וזרמים.\n",
    "* **מכניקה קלאסית**: מערכת של מסות מחוברות בקפיצים מתוארת על ידי משוואות לינאריות לכוחות ותזוזות.\n",
    "* **אנליזת תגובה (response analysis)**: קביעה כיצד מערכת מגיבה לגירוי (לדוגמה שדה חשמלי או כוח חיצוני).\n",
    "* **חישוב התפתחות בזמן קצר**: בצעד אינטגרציה נומרית של משוואות דיפרנציאליות נדרשת לעיתים קרובות הפתרה של מערכת לינארית בכל צעד.\n",
    "\n",
    "\n",
    "### מספר התניה (Condition Number)\n",
    "\n",
    "לפעמים המערכת \"רגישה\" לשינויים קטנים.  \n",
    "כדי למדוד זאת משתמשים ב־**מספר ההתניה** של $A$, שמוגדר כך:\n",
    "\n",
    "$$\n",
    "\\kappa(A) = \\|A\\| \\cdot \\|A^{-1}\\|\n",
    "$$\n",
    "\n",
    "אם $\\kappa(A)$ קטן, המערכת יציבה — שגיאות קטנות בנתונים לא משפיעות הרבה על התוצאה.  \n",
    "אם $\\kappa(A)$ גדול, המערכת לא יציבה — טעות קטנה במדידות או בחישובים עלולה לגרום לשינוי גדול מאוד בפתרון.\n",
    "\n",
    "ב־NumPy אפשר לחשב את זה בעזרת:\n",
    "```python\n",
    "np.linalg.cond(A)\n",
    "``` \n",
    "\n",
    "#### כלל אצבע\n",
    "**אל תחשבו \\(A^{-1}\\)** אלא השתמשו ב-`np.linalg.solve`, ובדקו את ה-condition number אם אתם חושדים שמדובר במטריצה \"כמעט סינגולרית\".\n"
   ]
  },
  {
   "cell_type": "markdown",
   "id": "7a7c803d",
   "metadata": {},
   "source": [
    "### דוגמה: פתרון מערכת לינארית פשוטה\n",
    "\n",
    "נגדיר מטריצה $A$ ווקטור אגף ימין $b$, שמייצגים מערכת של שתי משוואות בשני נעלמים.  \n",
    "נשתמש ב־`np.linalg.solve` כדי למצוא את הפתרון $x$ שמקיים את $Ax = b$.  \n",
    "בסוף נחשב את ה־residual (השארית) כלומר $Ax - b$, כדי לבדוק עד כמה הפתרון באמת מתאים — \n",
    "במערכת מדויקת השארית אמורה להיות קרובה מאוד ל־0.\n"
   ]
  },
  {
   "cell_type": "code",
   "execution_count": 3,
   "id": "c990f7f3",
   "metadata": {},
   "outputs": [
    {
     "data": {
      "text/plain": [
       "(array([2., 3.]), array([0., 0.]))"
      ]
     },
     "execution_count": 3,
     "metadata": {},
     "output_type": "execute_result"
    }
   ],
   "source": [
    "# Solve Ax = b (single RHS)\n",
    "A = np.array([[3., 1.],\n",
    "              [1., 2.]])\n",
    "b = np.array([9., 8.])\n",
    "\n",
    "x = np.linalg.solve(A, b)\n",
    "residual = A @ x - b\n",
    "x, residual\n"
   ]
  },
  {
   "cell_type": "markdown",
   "id": "de66d5ad",
   "metadata": {},
   "source": [
    "### דוגמה: מערכת כמעט סינגולרית (Nearly Singular)\n",
    "\n",
    "כאן נגדיר מטריצה $C$ שקרובה מאוד להיות סינגולרית (כלומר כמעט לא הפיכה).  \n",
    "במקרים כאלה מספר ההתניה $\\kappa(C)$ יוצא גדול מאוד, מה שמצביע על כך שהמערכת רגישה במיוחד לשינויים קטנים.  \n",
    "\n",
    "נראה זאת בכך שנפתור את אותה מערכת פעמיים: פעם עם וקטור אגף ימין $d_1$, ופעם עם $d_2$ שנבדל ממנו רק בשינוי זעיר.  \n",
    "נבחין כי הפתרונות $x_1$ ו־$x_2$ שונים בצורה משמעותית — עדות לכך שמערכות כאלה אינן יציבות נומרית, \n",
    "ואפילו טעות קטנה במדידות יכולה לשנות לגמרי את התוצאה.\n"
   ]
  },
  {
   "cell_type": "code",
   "execution_count": 4,
   "id": "4efe4a46",
   "metadata": {},
   "outputs": [
    {
     "data": {
      "text/plain": [
       "(np.float64(4000002.0005977214), array([2., 0.]), array([1., 1.]))"
      ]
     },
     "execution_count": 4,
     "metadata": {},
     "output_type": "execute_result"
    }
   ],
   "source": [
    "# Nearly singular system: sensitive to perturbations\n",
    "C = np.array([[1., 1.],\n",
    "              [1., 1.000001]])\n",
    "condC = np.linalg.cond(C)\n",
    "\n",
    "d1 = np.array([2., 2.])\n",
    "d2 = np.array([2., 2.000001])  # tiny perturbation\n",
    "\n",
    "x1 = np.linalg.solve(C, d1)\n",
    "x2 = np.linalg.solve(C, d2)\n",
    "\n",
    "condC, x1, x2\n"
   ]
  },
  {
   "cell_type": "markdown",
   "id": "d8d0bac6",
   "metadata": {},
   "source": [
    "### דוגמה: פתרון מערכת עם מספר אגפים בצד ימין\n",
    "\n",
    "במקום לפתור את המערכת $Ax = b$ עבור וקטור אחד של אגף ימין,  \n",
    "אפשר לפתור בבת אחת עבור כמה וקטורים שונים. במקרה זה נגדיר מטריצה $B$ שכל עמודה בה היא אגף ימין שונה.  \n",
    "\n",
    "הפקודה `np.linalg.solve(A, B)` מחזירה מטריצה $X$, כאשר כל עמודה ב־$X$ היא פתרון מתאים ל־$Ax = b$ של העמודה המקבילה ב־$B$.  \n",
    "\n",
    "כך ניתן לפתור כמה מערכות דומות במקביל ביעילות, במקום להריץ את הפתרון שוב ושוב עבור כל וקטור בנפרד.\n"
   ]
  },
  {
   "cell_type": "code",
   "execution_count": null,
   "id": "4a601099",
   "metadata": {},
   "outputs": [],
   "source": [
    "# Multiple right-hand sides (Ax = B)\n",
    "B = np.column_stack([b, [1., 0.]])  # matrix of RHS\n",
    "X = np.linalg.solve(A, B)\n",
    "\n",
    "np.allclose(A @ X, B), X"
   ]
  },
  {
   "cell_type": "markdown",
   "id": "d1d1a11a",
   "metadata": {},
   "source": [
    "### שיטת הריבועים הפחותים (Least Squares)\n",
    "\n",
    "במקרים שבהם המערכת $Ax = b$ היא **עודפת** (יותר משוואות מנעלמים, $m > n$) או **חסרה** (יותר נעלמים ממשוואות, $m < n$), ייתכן שאין פתרון יחיד.\n",
    "\n",
    "במקרים אלו ניתן להשתמש בשיטת **Least Squares**:\n",
    "\n",
    "$$\n",
    "x^\\ast = \\arg \\min_x \\|Ax - b\\|_2\n",
    "$$\n",
    "\n",
    "כלומר: אנו מחפשים את הווקטור $x$ שמקטין ככל האפשר את השגיאה המרובעת בין $Ax$ לבין $b$.\n",
    "\n",
    "ב־NumPy:\n",
    "```python\n",
    "x, residuals, rank, s = np.linalg.lstsq(A, b, rcond=None)"
   ]
  },
  {
   "cell_type": "markdown",
   "id": "a322fdda",
   "metadata": {},
   "source": [
    "דוגמאות שימוש נפוצות בפיסיקה והנדסה:\n",
    "\n",
    "- התאמת נתונים (Data Fitting): התאמת קו ישר או פולינום לנקודות ניסוי.\n",
    "- שחזורים חישוביים: כאשר המערכת חסרה (underdetermined), מחפשים פתרון מינימום-נורמה.\n",
    "- אנליזת רעש: מציאת קירוב הטוב ביותר לנתונים כאשר $b$ מכיל רעש ניסוי.\n",
    "\n",
    "### דוגמה: התאמת קו ישר בשיטת Least Squares\n",
    "\n",
    "נניח שיש לנו נתונים ניסיוניים המתוארים בקירוב על־ידי קו ישר:\n",
    "\n",
    "$$\n",
    "y \\approx a + b x\n",
    "$$\n",
    "\n",
    "כאשר $a$ הוא הקבוע החופשי (intercept) ו־$b$ הוא השיפוע.\n",
    "\n",
    "בפועל, המדידות אינן מדויקות אלא כוללות **רעש ניסויי**. לכן, נרצה למצוא את הקו \n",
    "$\\hat{y} = a^\\ast + b^\\ast x$ שמקטין את טעות הריבועים הממוצעת (שיטת least-squares):\n",
    "\n",
    "$$\n",
    "(a^\\ast, b^\\ast) = \\arg \\min_{a,b} \\; \\sum_{i=1}^N \\big( y_i - (a + b x_i) \\big)^2\n",
    "$$\n",
    "\n",
    "במטריצה־וקטור, ניתן לכתוב:\n",
    "\n",
    "$$\n",
    "\\mathbf{y} \\approx A \\mathbf{c},\n",
    "$$\n",
    "\n",
    "כאשר:\n",
    "* $A$ היא מטריצת **design** בגודל $N \\times 2$:\n",
    "  $$\n",
    "  A = \n",
    "  \\begin{bmatrix}\n",
    "  1 & x_1 \\\\\n",
    "  1 & x_2 \\\\\n",
    "  \\vdots & \\vdots \\\\\n",
    "  1 & x_N\n",
    "  \\end{bmatrix}\n",
    "  $$\n",
    "* $\\mathbf{c} = \\begin{bmatrix} a \\\\ b \\end{bmatrix}$ הוא וקטור הפרמטרים.\n",
    "* $\\mathbf{y}$ הוא וקטור התצפיות (כולל רעש).\n",
    "\n",
    "נפתור את בעיית least-squares עם `np.linalg.lstsq`, אשר מחזירה את $a^\\ast, b^\\ast$ \n",
    "כך שהקו מתאים בצורה הטובה ביותר לנתונים."
   ]
  },
  {
   "cell_type": "code",
   "execution_count": 1,
   "id": "5be6a7dd",
   "metadata": {},
   "outputs": [
    {
     "ename": "NameError",
     "evalue": "name 'np' is not defined",
     "output_type": "error",
     "traceback": [
      "\u001b[31m---------------------------------------------------------------------------\u001b[39m",
      "\u001b[31mNameError\u001b[39m                                 Traceback (most recent call last)",
      "\u001b[36mCell\u001b[39m\u001b[36m \u001b[39m\u001b[32mIn[1]\u001b[39m\u001b[32m, line 2\u001b[39m\n\u001b[32m      1\u001b[39m \u001b[38;5;66;03m# Synthetic data: y ≈ a + b x\u001b[39;00m\n\u001b[32m----> \u001b[39m\u001b[32m2\u001b[39m xdata = \u001b[43mnp\u001b[49m.linspace(\u001b[32m0\u001b[39m, \u001b[32m1\u001b[39m, \u001b[32m50\u001b[39m)\n\u001b[32m      3\u001b[39m ytrue = \u001b[32m1.5\u001b[39m + \u001b[32m2.0\u001b[39m*xdata\n\u001b[32m      4\u001b[39m yobs  = ytrue + rng.normal(scale=\u001b[32m0.1\u001b[39m, size=xdata.size)  \u001b[38;5;66;03m# noisy observations\u001b[39;00m\n",
      "\u001b[31mNameError\u001b[39m: name 'np' is not defined"
     ]
    }
   ],
   "source": [
    "# Synthetic data: y ≈ a + b x\n",
    "xdata = np.linspace(0, 1, 50)\n",
    "ytrue = 1.5 + 2.0*xdata\n",
    "yobs  = ytrue + rng.normal(scale=0.1, size=xdata.size)  # noisy observations\n",
    "\n",
    "# Design matrix for linear fit: [1, x]\n",
    "A = np.column_stack([np.ones_like(xdata), xdata])\n",
    "\n",
    "# Least-squares fit\n",
    "coef, residuals, rank, s = np.linalg.lstsq(A, yobs, rcond=None)\n",
    "\n",
    "coef, residuals"
   ]
  },
  {
   "cell_type": "code",
   "execution_count": null,
   "id": "c5661db3",
   "metadata": {},
   "outputs": [
    {
     "data": {
      "image/png": "[encoded data removed]",
      "text/plain": [
       "<Figure size 640x480 with 1 Axes>"
      ]
     },
     "metadata": {},
     "output_type": "display_data"
    }
   ],
   "source": [
    "plt.scatter(xdata, yobs, label=\"noisy data\", alpha=0.7)\n",
    "plt.plot(xdata, ytrue, 'k--', label=\"true line\")\n",
    "plt.plot(xdata, A @ coef, 'r-', label=\"fit (lstsq)\")\n",
    "plt.legend()\n",
    "plt.title(\"Least-squares line fit\")\n",
    "plt.show()"
   ]
  },
  {
   "cell_type": "markdown",
   "id": "4d058900",
   "metadata": {},
   "source": [
    "## ערכים עצמיים, וקטורים עצמיים, עקבה ודטרמיננטה\n",
    "\n",
    "למטריצה $A$ מתקבלים **ערכים עצמיים** $\\lambda_i$ ו־**וקטורים עצמיים** $v_i$ כך ש־\n",
    "\n",
    "$$\n",
    "A v_i = \\lambda_i v_i .\n",
    "$$\n",
    "\n",
    "### אינטואיציה פיסיקלית\n",
    "בפיסיקה, ערכים ווקטורים עצמיים מופיעים בהקשרים רבים:\n",
    "- **מצבים נורמליים** במערכות לינאריות — למשל תנודות קטנות סביב נקודת שיווי משקל.\n",
    "- **כיווני יציבות/אי־יציבות** במערכות דינמיות.\n",
    "- **צירים עיקריים** של התפלגות או קירוב קוודרטי (principal axes).\n",
    "\n",
    "* `np.linalg.eig(A)` מחזירה `(w, V)`:\n",
    "  - `w` – מערך הערכים העצמיים.\n",
    "  - `V` – מטריצה שבה כל עמודה היא וקטור עצמי מתאים.\n",
    "* `np.linalg.eigvals(A)` מחזירה רק את הערכים העצמיים.\n",
    "\n",
    "במקרה של מטריצה **סימטרית** (או הרמיטית ממשית), מתקיים:\n",
    "* הערכים העצמיים ממשיים.\n",
    "* הווקטורים העצמיים ניתנים לבחירה כאורתונורמליים (זווית ישרה ונורמה 1).\n",
    "* לשימוש כזה עדיף `np.linalg.eigh`, המנצל את מבנה הסימטריה ומחזיר תוצאה יציבה יותר.\n",
    "\n",
    "### קשרים שימושיים\n",
    "* העקבה (trace) של מטריצה היא סכום הערכים העצמיים:\n",
    "  $$\n",
    "  \\mathrm{trace}(A) = \\sum_i \\lambda_i\n",
    "  $$\n",
    "* הדטרמיננטה (det) היא מכפלת הערכים העצמיים:\n",
    "  $$\n",
    "  \\det(A) = \\prod_i \\lambda_i\n",
    "  $$\n"
   ]
  },
  {
   "cell_type": "code",
   "execution_count": null,
   "id": "244714c6",
   "metadata": {},
   "outputs": [],
   "source": [
    "# Symmetric example: prefer eigh\n",
    "A = np.array([[4., 1., 0.],\n",
    "              [1., 3., 1.],\n",
    "              [0., 1., 2.]], dtype=float)\n",
    "\n",
    "w, V = np.linalg.eigh(A)     # sorted ascending\n",
    "trA = np.trace(A)\n",
    "detA = np.linalg.det(A)\n",
    "\n",
    "trace_vs_sum = trA, np.sum(w)\n",
    "det_vs_prod   = detA, np.prod(w)\n",
    "\n",
    "# Check orthonormality and reconstruction A ≈ V diag(w) V^T\n",
    "Icheck = V.T @ V\n",
    "Arec = V @ np.diag(w) @ V.T\n",
    "np.allclose(Icheck, np.eye(3)), np.allclose(Arec, A), trace_vs_sum, det_vs_prod\n"
   ]
  },
  {
   "cell_type": "code",
   "execution_count": null,
   "id": "1832d72b",
   "metadata": {},
   "outputs": [],
   "source": [
    "# Non-symmetric example: complex eigenvalues are possible\n",
    "B = np.array([[0., -1.],\n",
    "              [1.,  0.]])\n",
    "wB, VB = np.linalg.eig(B)\n",
    "wB, VB\n"
   ]
  },
  {
   "cell_type": "markdown",
   "id": "d816165e",
   "metadata": {},
   "source": [
    "## SVD – פירוק לערכים סינגולריים\n",
    "ה-SVD מפרק מטריצה  $A$ ל$U\\Sigma V^T$, כאשר $\\Sigma$ מכילה ערכים סינגולריים אי-שליליים מסודרים מהגדול לקטן. שימושים:\n",
    "\n",
    "דחיסת מידע/הפחתת מימד -\n",
    "\n",
    "ניתוח מצבים דומיננטיים -\n",
    "\n",
    "- least-squares יציב נומרית.\n",
    "\n",
    "להדגמה נבצע SVD על תמונה (או על מטריצה מלאכותית אם ספריות חיצוניות לא זמינות)."
   ]
  },
  {
   "cell_type": "code",
   "execution_count": null,
   "id": "4db5c913",
   "metadata": {},
   "outputs": [],
   "source": [
    "# Try loading a demo image; fall back to a synthetic image if SciPy is unavailable\n",
    "try:\n",
    "    from scipy.datasets import face  # SciPy >= 1.10\n",
    "    img = face()\n",
    "except Exception:\n",
    "    # Simple synthetic \"image\": gradient + circle\n",
    "    Y, X = np.ogrid[:256, :256]\n",
    "    circle = (np.hypot(X-128, Y-128) < 90).astype(float)\n",
    "    grad = (X / X.max())[None, :]\n",
    "    img_gray_syn = 0.6*grad + 0.4*circle\n",
    "    img = np.stack([img_gray_syn, img_gray_syn, img_gray_syn], axis=-1)\n",
    "\n",
    "# Convert to grayscale using standard luminance weights\n",
    "img = img.astype(float)\n",
    "img = img / (img.max() if img.max() > 1 else 255.0)\n",
    "img_gray = img @ np.array([0.2126, 0.7152, 0.0722])\n",
    "\n",
    "# SVD\n",
    "U, s, Vt = np.linalg.svd(img_gray, full_matrices=False)\n",
    "U.shape, s.shape, Vt.shape, float(s[0]), float(s[-1])\n"
   ]
  },
  {
   "cell_type": "code",
   "execution_count": null,
   "id": "9a534275",
   "metadata": {},
   "outputs": [],
   "source": [
    "# Low-rank approximation via top-k singular values\n",
    "k = 25  # play with k\n",
    "approx = (U[:, :k] * s[:k]) @ Vt[:k, :]\n",
    "\n",
    "plt.figure()\n",
    "plt.title(\"SVD approximation with k components\")\n",
    "plt.imshow(approx)\n",
    "plt.axis(\"off\")\n",
    "plt.show()\n",
    "\n",
    "# Energy captured by top-k singular values\n",
    "energy = np.cumsum(s**2) / np.sum(s**2)\n",
    "energy_k = energy[k-1]\n",
    "error_rel = np.linalg.norm(img_gray - approx) / np.linalg.norm(img_gray)\n",
    "energy_k, error_rel\n"
   ]
  },
  {
   "cell_type": "code",
   "execution_count": null,
   "id": "d98e8b06",
   "metadata": {},
   "outputs": [],
   "source": [
    "מחולל אקראי מודרני: np.random.default_rng\n",
    "\n",
    "לשימוש עדכני ומומלץ באקראיות:\n",
    "\n",
    "צור מחולל: rng = np.random.default_rng(seed) (סיד קבוע לשחזור).\n",
    "\n",
    "דגימות נפוצות: rng.uniform, rng.normal, rng.poisson, rng.binomial, rng.choice, ועוד.\n",
    "\n",
    "וקטוריזציה: דוגמים מערכים גדולים בבת אחת בלי לולאות פייתון."
   ]
  },
  {
   "cell_type": "code",
   "execution_count": null,
   "id": "9b25acbc",
   "metadata": {},
   "outputs": [],
   "source": [
    "# Reproducibility demo: same seed -> same stream\n",
    "rng1 = np.random.default_rng(123)\n",
    "rng2 = np.random.default_rng(123)\n",
    "np.allclose(rng1.normal(size=5), rng2.normal(size=5))\n"
   ]
  },
  {
   "cell_type": "code",
   "execution_count": null,
   "id": "3b8440ea",
   "metadata": {},
   "outputs": [],
   "source": [
    "# Basic distributions\n",
    "u = rng.uniform(size=10)                      # Uniform [0,1)\n",
    "z = rng.normal(loc=0.0, scale=1.0, size=10_000)  # Standard normal\n",
    "p = rng.poisson(lam=3.0, size=10_000)         # Poisson(λ=3)\n",
    "b = rng.binomial(n=10, p=0.3, size=10_000)    # Binomial\n",
    "u[:5], z.mean(), z.std(ddof=1), p.mean(), b.mean()\n"
   ]
  },
  {
   "cell_type": "code",
   "execution_count": null,
   "id": "ac0ae767",
   "metadata": {},
   "outputs": [],
   "source": [
    "# Multivariate normal (useful for correlated noise)\n",
    "mu = np.array([0.0, 0.0])\n",
    "Sigma = np.array([[1.0, 0.8],\n",
    "                  [0.8, 1.5]])\n",
    "X = rng.multivariate_normal(mu, Sigma, size=5_000)\n",
    "X.shape, np.mean(X, axis=0), np.cov(X.T)\n"
   ]
  },
  {
   "cell_type": "code",
   "execution_count": null,
   "id": "013004f9",
   "metadata": {},
   "outputs": [],
   "source": [
    "# Multivariate normal (useful for correlated noise)\n",
    "mu = np.array([0.0, 0.0])\n",
    "Sigma = np.array([[1.0, 0.8],\n",
    "                  [0.8, 1.5]])\n",
    "X = rng.multivariate_normal(mu, Sigma, size=5_000)\n",
    "X.shape, np.mean(X, axis=0), np.cov(X.T)\n"
   ]
  },
  {
   "cell_type": "code",
   "execution_count": null,
   "id": "e692fe91",
   "metadata": {},
   "outputs": [],
   "source": [
    "# Quick histograms (separate figures)\n",
    "plt.figure()\n",
    "plt.title(\"Normal(0,1) – empirical\")\n",
    "plt.hist(z, bins=50, density=True)\n",
    "plt.xlabel(\"x\"); plt.ylabel(\"density\")\n",
    "plt.show()\n",
    "\n",
    "plt.figure()\n",
    "plt.title(\"Poisson(λ=3) – empirical\")\n",
    "plt.hist(p, bins=np.arange(p.min(), p.max()+1)-0.5, density=True)\n",
    "plt.xlabel(\"k\"); plt.ylabel(\"probability\")\n",
    "plt.show()\n"
   ]
  },
  {
   "cell_type": "markdown",
   "id": "c3d01284",
   "metadata": {},
   "source": [
    "תהליך פואסוני – זמני הגעה (Exponential interarrivals)"
   ]
  },
  {
   "cell_type": "code",
   "execution_count": null,
   "id": "fd18f5f2",
   "metadata": {},
   "outputs": [],
   "source": [
    "# Poisson process via exponential interarrival times\n",
    "lam = 2.0  # events per unit time\n",
    "n_events = 2000\n",
    "inter = rng.exponential(scale=1/lam, size=n_events)  # mean 1/λ\n",
    "times = np.cumsum(inter)\n",
    "times[:5], inter.mean()\n"
   ]
  },
  {
   "cell_type": "code",
   "execution_count": null,
   "id": "41401518",
   "metadata": {},
   "outputs": [],
   "source": [
    "# Histogram of interarrival times ~ Exponential(λ)\n",
    "plt.figure()\n",
    "plt.title(\"Poisson process interarrival times\")\n",
    "plt.hist(inter, bins=50, density=True)\n",
    "plt.xlabel(\"Δt\"); plt.ylabel(\"density\")\n",
    "plt.show()\n"
   ]
  },
  {
   "cell_type": "markdown",
   "id": "7552c417",
   "metadata": {},
   "source": [
    "## דוגמה מסכמת (1): הערכת מונטה–קרלו של π\n",
    "\n",
    "הרעיון: לדגום \\(N\\) נקודות אחידות בריבוע \\([-1,1]\\times[-1,1]\\),  \n",
    "ולחשב את החלק מהן שנמצא בתוך מעגל היחידה.  \n",
    "\n",
    "\\[\n",
    "\\hat{\\pi} \\;=\\; 4 \\cdot \\frac{\\#\\{(x,y): x^2+y^2 \\le 1\\}}{N}.\n",
    "\\]\n",
    "\n",
    "בפועל נשתמש במחולל אקראי מודרני ונראה שהשגיאה יורדת בקצב סדר גודל של \\(1/\\sqrt{N}\\).\n"
   ]
  },
  {
   "cell_type": "code",
   "execution_count": 2,
   "id": "300e61f1",
   "metadata": {},
   "outputs": [
    {
     "ename": "NameError",
     "evalue": "name 'np' is not defined",
     "output_type": "error",
     "traceback": [
      "\u001b[31m---------------------------------------------------------------------------\u001b[39m",
      "\u001b[31mNameError\u001b[39m                                 Traceback (most recent call last)",
      "\u001b[36mCell\u001b[39m\u001b[36m \u001b[39m\u001b[32mIn[2]\u001b[39m\u001b[32m, line 8\u001b[39m\n\u001b[32m      5\u001b[39m     inside = (xy[:,\u001b[32m0\u001b[39m]**\u001b[32m2\u001b[39m + xy[:,\u001b[32m1\u001b[39m]**\u001b[32m2\u001b[39m) <= \u001b[32m1.0\u001b[39m\n\u001b[32m      6\u001b[39m     \u001b[38;5;28;01mreturn\u001b[39;00m \u001b[32m4.0\u001b[39m * inside.mean()\n\u001b[32m----> \u001b[39m\u001b[32m8\u001b[39m Ns = \u001b[43mnp\u001b[49m.logspace(\u001b[32m2\u001b[39m, \u001b[32m6\u001b[39m, num=\u001b[32m9\u001b[39m, base=\u001b[32m10\u001b[39m, dtype=\u001b[38;5;28mint\u001b[39m)\n\u001b[32m      9\u001b[39m est = np.array([mc_pi(\u001b[38;5;28mint\u001b[39m(N), seed=\u001b[32m123\u001b[39m) \u001b[38;5;28;01mfor\u001b[39;00m N \u001b[38;5;129;01min\u001b[39;00m Ns])\n\u001b[32m     10\u001b[39m abs_err = np.abs(est - np.pi)\n",
      "\u001b[31mNameError\u001b[39m: name 'np' is not defined"
     ]
    }
   ],
   "source": [
    "def mc_pi(N, seed=None):\n",
    "    # Monte-Carlo estimate of pi using hit/miss in unit disk\n",
    "    r = np.random.default_rng(seed)\n",
    "    xy = r.uniform(-1.0, 1.0, size=(N, 2))\n",
    "    inside = (xy[:,0]**2 + xy[:,1]**2) <= 1.0\n",
    "    return 4.0 * inside.mean()\n",
    "\n",
    "Ns = np.logspace(2, 6, num=9, base=10, dtype=int)\n",
    "est = np.array([mc_pi(int(N), seed=123) for N in Ns])\n",
    "abs_err = np.abs(est - np.pi)\n",
    "\n",
    "Ns, est[:5], abs_err[:5]\n"
   ]
  },
  {
   "cell_type": "code",
   "execution_count": null,
   "id": "43cf7058",
   "metadata": {},
   "outputs": [],
   "source": [
    "plt.figure()\n",
    "plt.title(\"π estimate vs N (log scale)\")\n",
    "plt.plot(Ns, est, marker='o', label=\"estimate\")\n",
    "plt.axhline(np.pi, linestyle='--', label=\"π (true)\")\n",
    "plt.xscale('log')\n",
    "plt.xlabel(\"N\")\n",
    "plt.ylabel(\"estimate\")\n",
    "plt.legend()\n",
    "plt.show()\n",
    "\n",
    "plt.figure()\n",
    "plt.title(\"|error| vs N (expected ~ 1/√N)\")\n",
    "plt.loglog(Ns, abs_err, marker='o')\n",
    "plt.xlabel(\"N\")\n",
    "plt.ylabel(\"|error|\")\n",
    "plt.show()\n"
   ]
  },
  {
   "cell_type": "markdown",
   "id": "511a54da",
   "metadata": {},
   "source": [
    "## דוגמה מסכמת (2): דיפוזיה בהליכת-אקראי 1D\n",
    "\n",
    "נבצע \\(M\\) הליכות אקראיות באורך \\(T\\) צעדים.  \n",
    "בכל צעד מתקיים:\n",
    "\\[\n",
    "x_{t+1} \\;=\\; x_t + \\xi_t, \\qquad \\xi_t \\in \\{-1, +1\\}, \\quad P(\\xi_t=+1)=P(\\xi_t=-1)=\\tfrac{1}{2}.\n",
    "\\]\n",
    "\n",
    "בממוצע אנליטי מתקבל:\n",
    "\\[\n",
    "\\mathrm{MSD}(t) = \\mathbb{E}[\\,x_t^2\\,] \\;\\propto\\; t.\n",
    "\\]\n",
    "\n",
    "נראה זאת נומרית, וכן נבדוק את התפלגות נקודת הסיום לאחר \\(T\\) צעדים — הצפויה להתקרב להתפלגות נורמלית לפי משפט הגבול המרכזי.\n"
   ]
  },
  {
   "cell_type": "code",
   "execution_count": null,
   "id": "0d117c93",
   "metadata": {},
   "outputs": [],
   "source": [
    "def random_walk_1d(T, M, seed=None):\n",
    "    # Vectorized ±1 steps and cumulative sums\n",
    "    r = np.random.default_rng(seed)\n",
    "    steps = r.choice([-1, 1], size=(M, T))\n",
    "    x = np.cumsum(steps, axis=1)\n",
    "    return x\n",
    "\n",
    "T = 1000\n",
    "M = 10_000\n",
    "X = random_walk_1d(T=T, M=M, seed=123)\n",
    "\n",
    "# Mean-squared displacement over time\n",
    "msd = (X**2).mean(axis=0)\n",
    "\n",
    "T, M, msd[:5]\n"
   ]
  },
  {
   "cell_type": "code",
   "execution_count": null,
   "id": "9a9c1f6e",
   "metadata": {},
   "outputs": [],
   "source": [
    "# MSD ~ t (linear scaling)\n",
    "t = np.arange(1, T+1)\n",
    "\n",
    "plt.figure()\n",
    "plt.title(\"1D Random Walk – MSD(t) ~ t\")\n",
    "plt.plot(t, msd, label=\"MSD (empirical)\")\n",
    "# Linear guide normalized to the last point\n",
    "guide = msd[-1] * (t / t[-1])\n",
    "plt.plot(t, guide, linestyle='--', label=\"~linear guide\")\n",
    "plt.xlabel(\"t\")\n",
    "plt.ylabel(\"MSD\")\n",
    "plt.legend()\n",
    "plt.show()\n"
   ]
  },
  {
   "cell_type": "markdown",
   "id": "30183387",
   "metadata": {},
   "source": [
    "התפלגות נקודת הסיום וה-CLT (התכנסות לנורמלית)"
   ]
  },
  {
   "cell_type": "code",
   "execution_count": null,
   "id": "62730b5b",
   "metadata": {},
   "outputs": [],
   "source": [
    "# Endpoint distribution after T steps should be ~ Normal(0, T)\n",
    "endpoints = X[:, -1]\n",
    "mu_hat, var_hat = endpoints.mean(), endpoints.var(ddof=1)\n",
    "\n",
    "plt.figure()\n",
    "plt.title(\"Endpoints histogram ~ N(0, T)\")\n",
    "plt.hist(endpoints, bins=60, density=True)\n",
    "plt.xlabel(\"x_T\"); plt.ylabel(\"density\")\n",
    "plt.show()\n",
    "\n",
    "mu_hat, var_hat, \"theory var ~ T =\", T\n"
   ]
  }
 ],
 "metadata": {
  "celltoolbar": "Slideshow",
  "kernelspec": {
   "display_name": "Python 3",
   "language": "python",
   "name": "python3"
  },
  "language_info": {
   "codemirror_mode": {
    "name": "ipython",
    "version": 3
   },
   "file_extension": ".py",
   "mimetype": "text/x-python",
   "name": "python",
   "nbconvert_exporter": "python",
   "pygments_lexer": "ipython3",
   "version": "3.12.1"
  }
 },
 "nbformat": 4,
 "nbformat_minor": 5
}
