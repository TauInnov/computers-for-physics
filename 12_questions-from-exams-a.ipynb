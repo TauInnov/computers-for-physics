{
 "cells": [
  {
   "cell_type": "code",
   "execution_count": null,
   "id": "b95b5fb4",
   "metadata": {
    "execution": {
     "iopub.execute_input": "2025-03-10T07:47:50.850590Z",
     "iopub.status.busy": "2025-03-10T07:47:50.850261Z",
     "iopub.status.idle": "2025-03-10T07:47:50.867220Z",
     "shell.execute_reply": "2025-03-10T07:47:50.866344Z"
    },
    "slideshow": {
     "slide_type": "skip"
    },
    "tags": [
     "remove-cell"
    ]
   },
   "outputs": [],
   "source": [
    "%%html\n",
    "<style>\n",
    "table {display: inline-block}\n",
    "td {text-align:left}\n",
    ".consoleMachineFont {color:blue;font-family:Courier}\n",
    ".consoleUserFont {font-family:Courier}\n",
    "</style>"
   ]
  },
  {
   "cell_type": "markdown",
   "id": "b01f4c17",
   "metadata": {
    "slideshow": {
     "slide_type": "slide"
    }
   },
   "source": [
    "# שאלות ממבחני עבר"
   ]
  },
  {
   "cell_type": "markdown",
   "id": "92e35e3c",
   "metadata": {
    "slideshow": {
     "slide_type": "subslide"
    }
   },
   "source": [
    "[2022-2023, סמסטר ב' מועד א'](https://courses.cs.tau.ac.il/pyProg/2425a/exams/exam2223b_moedA.pdf)"
   ]
  },
  {
   "cell_type": "markdown",
   "id": "b57f4869",
   "metadata": {
    "slideshow": {
     "slide_type": "subslide"
    }
   },
   "source": [
    "1.A"
   ]
  },
  {
   "cell_type": "code",
   "execution_count": null,
   "id": "7e6fe147",
   "metadata": {
    "execution": {
     "iopub.execute_input": "2025-03-10T07:47:51.075769Z",
     "iopub.status.busy": "2025-03-10T07:47:51.075285Z",
     "iopub.status.idle": "2025-03-10T07:47:51.080943Z",
     "shell.execute_reply": "2025-03-10T07:47:51.080105Z"
    },
    "slideshow": {
     "slide_type": "fragment"
    }
   },
   "outputs": [],
   "source": [
    "def read_msgs(infile_lst):\n",
    "    dic = {}\n",
    "    for infile in infile_lst:\n",
    "        f = open(infile, 'r')\n",
    "        for line in f:\n",
    "            line = line.rstrip()\n",
    "            msgs = line.split(',')\n",
    "            for msg in msgs:\n",
    "                writer, msg = msg.split(':')\n",
    "                dic[writer] = dic.get(writer, []) + [msg]\n",
    "        f.close()\n",
    "    return dic"
   ]
  },
  {
   "cell_type": "code",
   "execution_count": null,
   "id": "6c207e65",
   "metadata": {
    "execution": {
     "iopub.execute_input": "2025-03-10T07:47:51.083824Z",
     "iopub.status.busy": "2025-03-10T07:47:51.083505Z",
     "iopub.status.idle": "2025-03-10T07:47:51.094246Z",
     "shell.execute_reply": "2025-03-10T07:47:51.093610Z"
    },
    "slideshow": {
     "slide_type": "fragment"
    }
   },
   "outputs": [],
   "source": [
    "open('files/infile1.txt', 'w').write(\"Avia:Good,Maor:Tel\\nAvia:Luck\")\n",
    "open('files/infile2.txt', 'w').write(\"Maor:Aviv\\nMaor:University\")\n",
    "\n",
    "read_msgs(['files/infile1.txt','files/infile2.txt'])"
   ]
  },
  {
   "cell_type": "markdown",
   "id": "f3cf8085",
   "metadata": {
    "slideshow": {
     "slide_type": "subslide"
    }
   },
   "source": [
    "1.B"
   ]
  },
  {
   "cell_type": "code",
   "execution_count": null,
   "id": "1c8caac4",
   "metadata": {
    "execution": {
     "iopub.execute_input": "2025-03-10T07:47:51.097466Z",
     "iopub.status.busy": "2025-03-10T07:47:51.097149Z",
     "iopub.status.idle": "2025-03-10T07:47:51.101686Z",
     "shell.execute_reply": "2025-03-10T07:47:51.101037Z"
    },
    "slideshow": {
     "slide_type": "fragment"
    }
   },
   "outputs": [],
   "source": [
    "def write_msgs(dic, outfile):\n",
    "    f = open(outfile, 'w')\n",
    "    for key in dic:\n",
    "        f.write(f'{key}:{dic[key]}\\n')\n",
    "    f.close()"
   ]
  },
  {
   "cell_type": "code",
   "execution_count": null,
   "id": "be830624",
   "metadata": {
    "execution": {
     "iopub.execute_input": "2025-03-10T07:47:51.104557Z",
     "iopub.status.busy": "2025-03-10T07:47:51.104191Z",
     "iopub.status.idle": "2025-03-10T07:47:51.111383Z",
     "shell.execute_reply": "2025-03-10T07:47:51.110259Z"
    },
    "slideshow": {
     "slide_type": "fragment"
    }
   },
   "outputs": [],
   "source": [
    "write_msgs({'Avia': ['Good', 'Luck'], 'Maor': ['Tel', 'Aviv', 'University']}, 'files/out.txt')\n",
    "print(open('files/out.txt','r').read())"
   ]
  },
  {
   "cell_type": "markdown",
   "id": "4ee3f5e4",
   "metadata": {
    "slideshow": {
     "slide_type": "subslide"
    }
   },
   "source": [
    "[2022-2023 סמסטר ב' מועד ב'](https://courses.cs.tau.ac.il/pyProg/2425a/exams/exam2223b_moedB.pdf)"
   ]
  },
  {
   "cell_type": "markdown",
   "id": "bc168d3f",
   "metadata": {
    "slideshow": {
     "slide_type": "subslide"
    }
   },
   "source": [
    "1.A"
   ]
  },
  {
   "cell_type": "code",
   "execution_count": null,
   "id": "c738e3d6",
   "metadata": {
    "execution": {
     "iopub.execute_input": "2025-03-10T07:47:51.114734Z",
     "iopub.status.busy": "2025-03-10T07:47:51.114419Z",
     "iopub.status.idle": "2025-03-10T07:47:51.119865Z",
     "shell.execute_reply": "2025-03-10T07:47:51.119038Z"
    },
    "slideshow": {
     "slide_type": "fragment"
    }
   },
   "outputs": [],
   "source": [
    "def foods_calories(calories_file):\n",
    "    f = open(calories_file, 'r')\n",
    "    dic = {}\n",
    "    for line in f:\n",
    "        lst = line.strip().split()\n",
    "        dic[lst[0][:-1]] = int(lst[1])\n",
    "    f.close()\n",
    "    return dic"
   ]
  },
  {
   "cell_type": "code",
   "execution_count": null,
   "id": "b414585f",
   "metadata": {
    "execution": {
     "iopub.execute_input": "2025-03-10T07:47:51.123016Z",
     "iopub.status.busy": "2025-03-10T07:47:51.122508Z",
     "iopub.status.idle": "2025-03-10T07:47:51.129582Z",
     "shell.execute_reply": "2025-03-10T07:47:51.128912Z"
    },
    "slideshow": {
     "slide_type": "fragment"
    }
   },
   "outputs": [],
   "source": [
    "open('files/foods.txt','w').write(\"Apple: 120\\nBamba: 300\\nEgg: 80\\nPita: 250\") \n",
    "\n",
    "foods_calories('files/foods.txt')"
   ]
  },
  {
   "cell_type": "markdown",
   "id": "aeda8e88",
   "metadata": {
    "slideshow": {
     "slide_type": "subslide"
    }
   },
   "source": [
    "1.B"
   ]
  },
  {
   "cell_type": "code",
   "execution_count": null,
   "id": "6466470e",
   "metadata": {
    "execution": {
     "iopub.execute_input": "2025-03-10T07:47:51.132621Z",
     "iopub.status.busy": "2025-03-10T07:47:51.132310Z",
     "iopub.status.idle": "2025-03-10T07:47:51.137288Z",
     "shell.execute_reply": "2025-03-10T07:47:51.136699Z"
    },
    "slideshow": {
     "slide_type": "fragment"
    }
   },
   "outputs": [],
   "source": [
    "def daily_calories(calories_file, days_lst):\n",
    "    dic = foods_calories(calories_file)\n",
    "    tot_lst = []\n",
    "    for file in days_lst:\n",
    "        tot = 0\n",
    "        f = open(file, 'r')\n",
    "        for line in f:\n",
    "            lst = line.strip().split('*')\n",
    "            tot += dic.get(lst[1], 100) * int(lst[0])\n",
    "        tot_lst.append(tot)\n",
    "    f.close()\n",
    "    return tot_lst"
   ]
  },
  {
   "cell_type": "code",
   "execution_count": null,
   "id": "9d7ab7aa",
   "metadata": {
    "execution": {
     "iopub.execute_input": "2025-03-10T07:47:51.140284Z",
     "iopub.status.busy": "2025-03-10T07:47:51.139738Z",
     "iopub.status.idle": "2025-03-10T07:47:51.151719Z",
     "shell.execute_reply": "2025-03-10T07:47:51.151031Z"
    },
    "slideshow": {
     "slide_type": "fragment"
    }
   },
   "outputs": [],
   "source": [
    "open('files/sunday.txt','w').write(\"4*Apple\\n1*Bamba\\n3*Egg\\n2*Pita\")\n",
    "open('files/monday.txt','w').write(\"3*Pita\\n2*Tomato\\n4*Egg\")\n",
    "\n",
    "daily_calories('files/foods.txt',['files/sunday.txt','files/monday.txt'])"
   ]
  }
 ],
 "metadata": {
  "celltoolbar": "Slideshow",
  "kernelspec": {
   "display_name": "Python 3 (ipykernel)",
   "language": "python",
   "name": "python3"
  },
  "language_info": {
   "codemirror_mode": {
    "name": "ipython",
    "version": 3
   },
   "file_extension": ".py",
   "mimetype": "text/x-python",
   "name": "python",
   "nbconvert_exporter": "python",
   "pygments_lexer": "ipython3",
   "version": "3.11.12"
  }
 },
 "nbformat": 4,
 "nbformat_minor": 5
}
